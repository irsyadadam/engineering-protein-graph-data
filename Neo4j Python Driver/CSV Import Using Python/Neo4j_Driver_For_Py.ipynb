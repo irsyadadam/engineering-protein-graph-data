{
 "metadata": {
  "language_info": {
   "codemirror_mode": {
    "name": "ipython",
    "version": 3
   },
   "file_extension": ".py",
   "mimetype": "text/x-python",
   "name": "python",
   "nbconvert_exporter": "python",
   "pygments_lexer": "ipython3",
   "version": "3.8.3"
  },
  "orig_nbformat": 4,
  "kernelspec": {
   "name": "python3",
   "display_name": "Python 3.8.3 64-bit ('base': conda)"
  },
  "interpreter": {
   "hash": "da9952b49cbe8d96f4cd94137675a40eefb933987d5b5eb67fec8d17888ef93b"
  }
 },
 "nbformat": 4,
 "nbformat_minor": 2,
 "cells": [
  {
   "cell_type": "code",
   "execution_count": 1,
   "source": [
    "#pip install neo4j"
   ],
   "outputs": [
    {
     "output_type": "stream",
     "name": "stdout",
     "text": [
      "Collecting neo4j\n",
      "  Downloading neo4j-4.3.2.tar.gz (75 kB)\n",
      "Requirement already satisfied: pytz in c:\\users\\irsya\\anaconda3\\lib\\site-packages (from neo4j) (2020.1)\n",
      "Building wheels for collected packages: neo4j\n",
      "  Building wheel for neo4j (setup.py): started\n",
      "  Building wheel for neo4j (setup.py): finished with status 'done'\n",
      "  Created wheel for neo4j: filename=neo4j-4.3.2-py3-none-any.whl size=99875 sha256=d650707a6e7486740ef0e655bad82096ad15c15d4f89f71ffb9e1e6dd78ac378\n",
      "  Stored in directory: c:\\users\\irsya\\appdata\\local\\pip\\cache\\wheels\\69\\e2\\69\\378ab2f82ba3e3f169609da30428043b370b4bddb25b2231b2\n",
      "Successfully built neo4j\n",
      "Installing collected packages: neo4j\n",
      "Successfully installed neo4j-4.3.2\n",
      "Note: you may need to restart the kernel to use updated packages.\n"
     ]
    }
   ],
   "metadata": {}
  },
  {
   "cell_type": "markdown",
   "source": [],
   "metadata": {}
  },
  {
   "cell_type": "markdown",
   "source": [
    "We need to make sure that we have a graph database to work with. Create a totally empty graph database with any name and password in Neo4j Desktop\n",
    "\n",
    "\n",
    "Run the following command to get the local url of the bolt (at the top of the neo4j browser) via cypher in Neo4j\n",
    "\n",
    "@cypher:\n",
    "\n",
    "      :server status\n",
    "\n",
    "Something like the following should pop up:\n",
    "\n",
    "@cypher:\n",
    "\n",
    "      You are connected as user neo4j to bolt://localhost:11005\n",
    "\n",
    "This is the default bolt url.\n"
   ],
   "metadata": {}
  },
  {
   "cell_type": "code",
   "execution_count": 1,
   "source": [
    "from neo4j import GraphDatabase\r\n",
    "\r\n",
    "#use your own default url\r\n",
    "url = \"neo4j://localhost:11007\"\r\n",
    "\r\n",
    "#username is neo4j, password is your own password\r\n",
    "driver = GraphDatabase.driver(url, auth=(\"neo4j\", \"Ima62186Ima@\"))\r\n",
    "\r\n",
    "#creates a node\r\n",
    "def create_node(tx, name, date) -> None:\r\n",
    "    \"\"\"\r\n",
    "    @param tx is the session that calls the function\r\n",
    "    @param name is the name of the person that we want to create\r\n",
    "    @return none \r\n",
    "    \"\"\"\r\n",
    "    tx.run(\"CREATE (n:Person {name: $name, date: $date})\", name = name, date = date)\r\n",
    "\r\n",
    "\r\n",
    "with driver.session() as session:\r\n",
    "    session.write_transaction(create_node, \"Helloooo\", \"333\")\r\n",
    "#..write_transaction(func, )\r\n",
    "driver.close()"
   ],
   "outputs": [],
   "metadata": {}
  },
  {
   "cell_type": "markdown",
   "source": [
    "Let us check if we created a person node named \"Hellooo.\" Run the following:\n",
    "\n",
    "@cypher:\n",
    "\n",
    "    MATCH (p:Person) WHERE p.name = \"Helloooo\"\n",
    "\n",
    "    RETURN p\n",
    "\n",
    "A node should pop up that has the name as follows!\n",
    "\n"
   ],
   "metadata": {}
  },
  {
   "cell_type": "code",
   "execution_count": 38,
   "source": [
    "#class that connects and creates/edits graph for needs\r\n",
    "class remote:\r\n",
    "\r\n",
    "    def __init__(self, url, username, password) -> None:\r\n",
    "        \"\"\" \r\n",
    "        init function\r\n",
    "        param url is the bolt url\r\n",
    "        @param username is the username\r\n",
    "        @param password is the password\r\n",
    "        @return null\r\n",
    "        \"\"\"\r\n",
    "        self.driver = GraphDatabase.driver(url, auth=(username, password))\r\n",
    "\r\n",
    "\r\n",
    "    def close(self):\r\n",
    "        \"\"\"\r\n",
    "        closes the session\r\n",
    "        \"\"\"\r\n",
    "        self.driver.close()\r\n",
    "\r\n",
    "    @staticmethod\r\n",
    "    def create_node(self, name) -> None:\r\n",
    "        \"\"\"\r\n",
    "        creates a node of custom type\r\n",
    "        @param name is the name of the the node\r\n",
    "        @return null\r\n",
    "        \"\"\"\r\n",
    "        tx.run(\"CREATE (n:Person {name: $name})\", name = name)\r\n",
    "\r\n",
    "    def run(self, funct, args) -> None:\r\n",
    "        \"\"\"\r\n",
    "        executes function in a session\r\n",
    "        @param funct is the function that you want to run\r\n",
    "        \"\"\"\r\n",
    "        with driver.session() as session:\r\n",
    "            session.write_transaction(funct, args)\r\n",
    "    \r\n"
   ],
   "outputs": [],
   "metadata": {}
  },
  {
   "cell_type": "code",
   "execution_count": 40,
   "source": [
    "url = \"neo4j://localhost:11007\"\r\n",
    "username = \"neo4j\"\r\n",
    "password = \"*PASSWORDGOESHEREEEE*\"\r\n",
    "\r\n",
    "#create object\r\n",
    "remote = remote(url, username, password)"
   ],
   "outputs": [],
   "metadata": {}
  },
  {
   "cell_type": "code",
   "execution_count": 41,
   "source": [
    "#create node named bob\r\n",
    "remote.run(create_node, \"bob\")"
   ],
   "outputs": [],
   "metadata": {}
  },
  {
   "cell_type": "markdown",
   "source": [
    "Review:\n",
    "-   Find bolt url\n",
    "-   Connect to bolt url via user and password\n",
    "-   Create a function with that runs query command nested\n",
    "-   Open Session and run the command with session.write_transaction()"
   ],
   "metadata": {}
  },
  {
   "cell_type": "code",
   "execution_count": null,
   "source": [],
   "outputs": [],
   "metadata": {}
  }
 ]
}