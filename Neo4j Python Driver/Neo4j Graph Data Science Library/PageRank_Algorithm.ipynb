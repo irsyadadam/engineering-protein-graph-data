{
    "cells": [
        {
            "cell_type": "markdown",
            "source": [
                "Using Graph Data Science Library (GDS) in Neo4j "
            ],
            "metadata": {}
        },
        {
            "cell_type": "code",
            "execution_count": 99,
            "source": [
                "from neo4j import GraphDatabase\r\n",
                "\r\n",
                "#use your own default url\r\n",
                "url = \"neo4j://localhost:11003\"\r\n",
                "\r\n",
                "#username is neo4j, password is your own password\r\n",
                "driver = GraphDatabase.driver(url, auth=(\"neo4j\", \"Ima62186Ima@\"))"
            ],
            "outputs": [],
            "metadata": {}
        },
        {
            "cell_type": "markdown",
            "source": [
                "First, create a named graph. We want to create a named graph out of the specific nodes that we want to identify.\r\n",
                "\r\n",
                "Analysis of Drug, Pathway, Protein, Frag with the MENTIONS relationship.\r\n",
                "\r\n",
                "@cypher:\r\n",
                "    CALL gds.graph.create(\r\n",
                "    'drug_analysis',\r\n",
                "    ['Drug', 'Protien', 'Pathway', 'Frag'], \r\n",
                "    ['Mentions'],\r\n",
                "    )"
            ],
            "metadata": {}
        },
        {
            "cell_type": "code",
            "execution_count": 100,
            "source": [
                "import pandas as pd\r\n",
                "\r\n",
                "#confirms the connection\r\n",
                "def confirmation_query(tx) -> str:\r\n",
                "    \"\"\"\r\n",
                "    @param tx is the session that calls the function\r\n",
                "    @return result is the string containing the query data\r\n",
                "    \"\"\"\r\n",
                "    result = tx.run(\"CALL db.info()\")\r\n",
                "    return result.single()\r\n",
                "\r\n",
                "def server_confirmation() -> str:\r\n",
                "    \"\"\"\r\n",
                "    @return result is the string containing the info\r\n",
                "    \"\"\"\r\n",
                "    with driver.session() as session:\r\n",
                "        result = session.write_transaction(confirmation_query)\r\n",
                "        return result\r\n",
                "\r\n",
                "#checks for gds library\r\n",
                "def gds_confirmation_query(tx) -> str:\r\n",
                "    \"\"\"\r\n",
                "    @return result is the query result \r\n",
                "    \"\"\"\r\n",
                "    result = tx.run(\"RETURN gds.version()\")\r\n",
                "    gdslist = tx.run(\"CALL gds.list()\")\r\n",
                "    return result.single(), gdslist.data()\r\n",
                "\r\n",
                "def gds_confirmation() -> str:\r\n",
                "    \"\"\"\r\n",
                "    @return result is the validation of gds library\r\n",
                "    \"\"\"\r\n",
                "    with driver.session() as session:\r\n",
                "        result, gdslist = session.write_transaction(gds_confirmation_query)\r\n",
                "        return result, gdslist\r\n",
                "\r\n",
                "server_info = server_confirmation()\r\n",
                "gds_confirmation, gdslist = gds_confirmation()\r\n",
                "\r\n",
                "gdslist = pd.DataFrame(gdslist)\r\n",
                "\r\n",
                "print(\"server info: \\n\", server_info, '\\n', type(server_info))\r\n",
                "print(\"\\n\")\r\n",
                "print(\"gds confirmation: \\n\", gds_confirmation)\r\n",
                "print(\"list of algorithms: \\n\", gdslist)\r\n",
                "\r\n"
            ],
            "outputs": [
                {
                    "output_type": "stream",
                    "name": "stdout",
                    "text": [
                        "server info: \n",
                        " <Record id='91657971FD7D672FB17703D0A41F45126BC1D5102F7BEFFECAEB0914834CB692' name='neo4j' creationDate='2020-11-05T04:33:52.238Z'> \n",
                        " <class 'neo4j.data.Record'>\n",
                        "\n",
                        "\n",
                        "gds confirmation: \n",
                        " <Record gds.version()='1.4.0'>\n",
                        "list of algorithms: \n",
                        "                                     name  ...       type\n",
                        "0      gds.alpha.allShortestPaths.stream  ...  procedure\n",
                        "1           gds.alpha.articleRank.stream  ...  procedure\n",
                        "2            gds.alpha.articleRank.write  ...  procedure\n",
                        "3                   gds.alpha.bfs.stream  ...  procedure\n",
                        "4    gds.alpha.closeness.harmonic.stream  ...  procedure\n",
                        "..                                   ...  ...        ...\n",
                        "197                    gds.util.infinity  ...   function\n",
                        "198                    gds.util.isFinite  ...   function\n",
                        "199                  gds.util.isInfinite  ...   function\n",
                        "200                gds.util.nodeProperty  ...   function\n",
                        "201                          gds.version  ...   function\n",
                        "\n",
                        "[202 rows x 4 columns]\n"
                    ]
                }
            ],
            "metadata": {}
        },
        {
            "cell_type": "markdown",
            "source": [
                "PageRank Algorithm: measures importance of each node within the graph, and importance of corresponding\r\n",
                "source nodes\r\n",
                "\r\n",
                "Considerations:\r\n",
                "-   If there are no relationships from within a group of pages to outside the group, then the group is considered a spider trap.\r\n",
                "-   Rank sink can occur when a network of pages is forming an infinite cycle\r\n",
                "-   Dead-ends occur when pages have no outgoing relationship."
            ],
            "metadata": {}
        },
        {
            "cell_type": "code",
            "execution_count": 90,
            "source": [
                "from neo4j import GraphDatabase\r\n",
                "\r\n",
                "class pagerank:\r\n",
                "    def __init__(self) -> None:\r\n",
                "        self.driver = GraphDatabase.driver(\"neo4j://localhost:11003\", auth=(\"neo4j\", \"Ima62186Ima@\"))\r\n",
                "\r\n",
                "    def close(self) -> None:\r\n",
                "        self.driver.close()\r\n",
                "\r\n",
                "    #estimation for memory\r\n",
                "    @classmethod\r\n",
                "    def memory_estimation(cls, tx) -> any:\r\n",
                "        \"\"\"\r\n",
                "        @param cls is the class\r\n",
                "        @param tx is the transaction\r\n",
                "        @returns the data for the memory\r\n",
                "        \"\"\"\r\n",
                "        query = (\"Call gds.pageRank.write.estimate('drug_analysis', {writeProperty: 'pageRank', maxIterations: 30, dampingFactor: 0.85}) YIELD nodeCount, relationshipCount, bytesMin, bytesMax, requiredMemory\")\r\n",
                "        result = tx.run(query)\r\n",
                "        return result.single()\r\n",
                "\r\n",
                "    @classmethod\r\n",
                "    def pagerank(cls, tx) -> any:\r\n",
                "        \"\"\"\r\n",
                "        @param cls is the class\r\n",
                "        @param tx is the transaction\r\n",
                "        @return result.data() is the data of the pagerank\r\n",
                "        \"\"\"\r\n",
                "        query = (\"Call gds.pageRank.stream('drug_analysis') YIELD nodeId, score RETURN gds.util.asNode(nodeId).name AS name, score ORDER BY score DESC, name ASC\")\r\n",
                "        result = tx.run(query)\r\n",
                "        return result.data()\r\n",
                "\r\n",
                "\r\n",
                "    def estimate_pagerank(self) -> any:\r\n",
                "        \"\"\"\r\n",
                "        @param self\r\n",
                "        @return result is the result of the memory estimation\r\n",
                "        \"\"\"\r\n",
                "        result = self.driver.session().write_transaction(self.memory_estimation)\r\n",
                "        return result\r\n",
                "\r\n",
                "\r\n",
                "    def run_pagerank(self) -> any:\r\n",
                "        \"\"\"\r\n",
                "        @param self\r\n",
                "        @return result is the dataframe from the pagerank\r\n",
                "        \"\"\"\r\n",
                "        result = self.driver.session().write_transaction(self.pagerank)\r\n",
                "        result = pd.DataFrame(result)\r\n",
                "        return result\r\n",
                "            \r\n"
            ],
            "outputs": [],
            "metadata": {}
        },
        {
            "cell_type": "code",
            "execution_count": 91,
            "source": [
                "import pandas as pd\r\n",
                "\r\n",
                "\r\n",
                "driver = pagerank()\r\n",
                "result = driver.estimate_pagerank()\r\n",
                "#result = pd.DataFrame(result)\r\n",
                "print('Pagerank Info: ', result)\r\n",
                "print('--------------------------------')\r\n",
                "\r\n",
                "pagerank = driver.run_pagerank()\r\n",
                "print(pagerank)\r\n",
                "\r\n"
            ],
            "outputs": [
                {
                    "output_type": "stream",
                    "name": "stdout",
                    "text": [
                        "Pagerank Info:  <Record nodeCount=7151 relationshipCount=1732 bytesMin=230168 bytesMax=230168 requiredMemory='224 KiB'>\n",
                        "--------------------------------\n",
                        "              name      score\n",
                        "0          disease  13.579986\n",
                        "1        apoptosis  11.104366\n",
                        "2     nitric_oxide   9.253497\n",
                        "3          release   6.731126\n",
                        "4       metabolism   6.673752\n",
                        "...            ...        ...\n",
                        "7146          None   0.150000\n",
                        "7147          None   0.150000\n",
                        "7148          None   0.150000\n",
                        "7149          None   0.150000\n",
                        "7150          None   0.150000\n",
                        "\n",
                        "[7151 rows x 2 columns]\n"
                    ]
                }
            ],
            "metadata": {}
        },
        {
            "cell_type": "code",
            "execution_count": null,
            "source": [],
            "outputs": [],
            "metadata": {}
        }
    ],
    "metadata": {
        "orig_nbformat": 4,
        "language_info": {
            "name": "python",
            "version": "3.8.3",
            "mimetype": "text/x-python",
            "codemirror_mode": {
                "name": "ipython",
                "version": 3
            },
            "pygments_lexer": "ipython3",
            "nbconvert_exporter": "python",
            "file_extension": ".py"
        },
        "kernelspec": {
            "name": "python3",
            "display_name": "Python 3.8.3 64-bit ('base': conda)"
        },
        "interpreter": {
            "hash": "da9952b49cbe8d96f4cd94137675a40eefb933987d5b5eb67fec8d17888ef93b"
        }
    },
    "nbformat": 4,
    "nbformat_minor": 2
}