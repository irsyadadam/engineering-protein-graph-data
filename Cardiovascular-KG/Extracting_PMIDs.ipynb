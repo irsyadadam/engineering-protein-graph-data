{
 "cells": [
  {
   "cell_type": "markdown",
   "source": [
    "Author: Irsyad Adam"
   ],
   "metadata": {}
  },
  {
   "cell_type": "code",
   "execution_count": 1,
   "source": [
    "import pandas as pd\n",
    "from tqdm import tqdm\n",
    "import requests"
   ],
   "outputs": [],
   "metadata": {}
  },
  {
   "cell_type": "code",
   "execution_count": 2,
   "source": [
    "def extract_pmid_from_unid(unid) -> str:\n",
    "    \"\"\"\n",
    "    grabs all pmids\n",
    "    @param id is the uniprot id that is going to be grabbed\n",
    "    @return is a list with all of the pmids associated EXCLUDING THE NUCLETIDE SEQ\n",
    "    \"\"\"\n",
    "    #get the url\n",
    "    url = 'https://www.uniprot.org/uniprot/' + unid + '.txt'\n",
    "\n",
    "    #check the response\n",
    "    response = requests.get(url=url)\n",
    "\n",
    "    #if successful\n",
    "    if response.status_code == 200:\n",
    "        pmid_list = []\n",
    "        #new line delimiter\n",
    "        response = response.text.splitlines()\n",
    "        #search\n",
    "        for i in range(len(response)):\n",
    "            #RX is the section for pmids, WANT TO EXCULUDE NUCLEOTIDE SEQUENCE PMIDS\n",
    "            if ('RX' in response[i]) and (('NUCLEOTIDE SEQUENCE' not in response[i - 1]) and ('NUCLEOTIDE SEQUENCE' not in response[i - 2]) and ('NUCLEOTIDE SEQUENCE' not in response[i - 3])):\n",
    "                #process string\n",
    "                pmid = response[i]\n",
    "                pmid = str(pmid.split()[1][7:-1])\n",
    "                pmid_list.append(pmid)\n",
    "        return pmid_list\n",
    "\n",
    "    #if not successful\n",
    "    else:\n",
    "        #get error\n",
    "        print('Error, Status Code:' % response.status_code)\n",
    "\n",
    "def unid_pmid_to_df(io = \"edge_list.csv\") -> pd.DataFrame:\n",
    "    \"\"\"\n",
    "    takes a csv file, gets the uniprot id column, and gets every pmid from that uniprotid, excluding the 'nucleotide\n",
    "    sequences'\n",
    "    @param io is the csv file to get parsed\n",
    "    @return df is the df with uniprotid-pmid\n",
    "    \"\"\"\n",
    "    df = pd.read_csv(io)\n",
    "\n",
    "    #get all unique identifiers\n",
    "    unid = list(set(df[\"UNIPROT_ID\"]))\n",
    "    print(\"---Import Completed---\", flush = True)\n",
    "    pmid_list = []\n",
    "\n",
    "    #iterate\n",
    "    for element in tqdm(unid, desc = \"Extracting PMIDs: \"):\n",
    "        pmid_list.append(extract_pmid_from_unid(element))\n",
    "        \n",
    "    #print\n",
    "    print(\"Done\", flush = True)\n",
    "    dict_to_df = {\"UNIPROT_ID\" : unid, \"PMID\" : pmid_list}\n",
    "    return pd.DataFrame(dict_to_df)"
   ],
   "outputs": [],
   "metadata": {}
  },
  {
   "cell_type": "code",
   "execution_count": 3,
   "source": [
    "import xml.etree.ElementTree as et\n",
    "\n",
    "def create_root(io) -> any:\n",
    "    \"\"\"\n",
    "    returns the root or xml\n",
    "    @param io is filepath\n",
    "    @returns the root associated with the xml\n",
    "    \"\"\"\n",
    "    return et.parse(io).getroot()\n",
    "\n",
    "def get_child_pmids(child, namespace) -> list:\n",
    "    \"\"\"\n",
    "    given a drug, gets all pmids associated with the drug\n",
    "    @param child is the child of root (iterated through the et.root)\n",
    "    @returns a list of pmids associated with the child\n",
    "    \"\"\"\n",
    "    pmids = []\n",
    "    for element in child.findall(namespace + \"general-references\"):\n",
    "        for articles in element:\n",
    "            for article in articles:\n",
    "                for ref in article:\n",
    "                    if (ref.tag == namespace + \"pubmed-id\"):\n",
    "                        pmids.append(ref.text)\n",
    "                \n",
    "    return pmids\n",
    "\n",
    "\n",
    "def get_dbID(child, namespace) -> str:\n",
    "    \"\"\"\n",
    "    gets primary dbid from a child of xml root\n",
    "    @param child is the child of xml root\n",
    "    @returns a string\n",
    "    \"\"\"\n",
    "    #get the id tag\n",
    "    for element in child.findall(namespace +'drugbank-id'):\n",
    "        #use primary drugbank id\n",
    "        if 'primary' in element.attrib:\n",
    "            #get nested text\n",
    "            drugbank_id = element.text\n",
    "            return str(drugbank_id)\n",
    "        else:\n",
    "            raise Exception('drugbank id not found')\n",
    "\n",
    "def find_all_drugbank_pmids(io = \"drugbank_database.xml\", csv = \"edge_list.csv\") -> pd.DataFrame:\n",
    "    \"\"\"\n",
    "    finds all pmids in drugbank given drugbank ids from the csv\n",
    "    @param io is the filepath of the full drugbank xml\n",
    "    \"\"\"\n",
    "    print(\"---Importing Data---\", flush = True)\n",
    "    #read the csv\n",
    "    df = pd.read_csv(csv)\n",
    "    #get the dbid\n",
    "    dbid_list = list(set(df[\"DRUGBANK_ID\"]))\n",
    "    print(\"Done\")\n",
    "\n",
    "    print(\"----Importing XML---\", flush = True)\n",
    "    #iterate over the xml\n",
    "    root = create_root(io)\n",
    "    #seperate namespace\n",
    "    namespace = root.tag.split('}')[0]+'}'\n",
    "    print(\"Done\", flush = True)\n",
    "\n",
    "    print(\"---Iterating Through Root---\")\n",
    "    pmid_list = []\n",
    "    for child in tqdm(root, desc = \"Searching XML\"):\n",
    "        if get_dbID(child, namespace) in dbid_list:\n",
    "            #pmid_list.append(get_child_pmids(child, namespace))\n",
    "            pmid_list.append(get_child_pmids(child, namespace))\n",
    "    print(\"Done\", flush = True)\n",
    "    df = {\"DRUGBANK_ID\" : dbid_list, \"PMID\" : pmid_list}\n",
    "    return pd.DataFrame(df)\n"
   ],
   "outputs": [],
   "metadata": {}
  },
  {
   "cell_type": "code",
   "execution_count": 4,
   "source": [
    "unid_pmid_df = unid_pmid_to_df()\n",
    "unid_pmid_df.to_csv(\"edge_list_unid_and_pmid.csv\", index = False)\n",
    "unid_pmid_df"
   ],
   "outputs": [
    {
     "output_type": "stream",
     "name": "stdout",
     "text": [
      "---Import Completed---\n"
     ]
    },
    {
     "output_type": "stream",
     "name": "stderr",
     "text": [
      "Extracting PMIDs: 100%|██████████| 828/828 [11:13<00:00,  1.23it/s]"
     ]
    },
    {
     "output_type": "stream",
     "name": "stdout",
     "text": [
      "Done\n"
     ]
    },
    {
     "output_type": "stream",
     "name": "stderr",
     "text": [
      "\n"
     ]
    }
   ],
   "metadata": {}
  },
  {
   "cell_type": "code",
   "execution_count": 5,
   "source": [
    "#runtime ~260 sec\n",
    "dbid_pmid_df = find_all_drugbank_pmids()\n",
    "dbid_pmid_df.to_csv(\"edge_list_dbid_and_pmid.csv\", index = False)\n",
    "dbid_pmid_df"
   ],
   "outputs": [
    {
     "output_type": "stream",
     "name": "stdout",
     "text": [
      "---Importing Data---\n",
      "Done\n",
      "----Importing XML---\n",
      "Done\n",
      "---Iterating Through Root---\n"
     ]
    },
    {
     "output_type": "stream",
     "name": "stderr",
     "text": [
      "Searching XML: 100%|██████████| 14315/14315 [00:03<00:00, 4721.16it/s]"
     ]
    },
    {
     "output_type": "stream",
     "name": "stdout",
     "text": [
      "Done\n"
     ]
    },
    {
     "output_type": "stream",
     "name": "stderr",
     "text": [
      "\n"
     ]
    }
   ],
   "metadata": {}
  }
 ],
 "metadata": {
  "orig_nbformat": 4,
  "language_info": {
   "name": "python",
   "version": "3.8.8",
   "mimetype": "text/x-python",
   "codemirror_mode": {
    "name": "ipython",
    "version": 3
   },
   "pygments_lexer": "ipython3",
   "nbconvert_exporter": "python",
   "file_extension": ".py"
  },
  "kernelspec": {
   "name": "python3",
   "display_name": "Python 3.8.8 64-bit ('base': conda)"
  },
  "interpreter": {
   "hash": "dca0ade3e726a953b501b15e8e990130d2b7799f14cfd9f4271676035ebe5511"
  }
 },
 "nbformat": 4,
 "nbformat_minor": 2
}