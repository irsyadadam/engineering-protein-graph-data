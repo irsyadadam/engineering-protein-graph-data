{
 "cells": [
  {
   "cell_type": "markdown",
   "source": [
    "Author: Irsyad Adam"
   ],
   "metadata": {}
  },
  {
   "cell_type": "code",
   "execution_count": null,
   "source": [
    "import pandas as pd\n",
    "from tqdm import tqdm\n",
    "import requests"
   ],
   "outputs": [],
   "metadata": {}
  },
  {
   "cell_type": "code",
   "execution_count": 37,
   "source": [
    "def extract_pmid_from_unid(unid) -> str:\n",
    "    \"\"\"\n",
    "    grabs all pmids\n",
    "    @param id is the uniprot id that is going to be grabbed\n",
    "    @return is a list with all of the pmids associated EXCLUDING THE NUCLETIDE SEQ\n",
    "    \"\"\"\n",
    "    #get the url\n",
    "    url = 'https://www.uniprot.org/uniprot/' + unid + '.txt'\n",
    "\n",
    "    #check the response\n",
    "    response = requests.get(url=url)\n",
    "\n",
    "    #if successful\n",
    "    if response.status_code == 200:\n",
    "        pmid_list = []\n",
    "        #new line delimiter\n",
    "        response = response.text.splitlines()\n",
    "        #search\n",
    "        for i in range(len(response)):\n",
    "            #RX is the section for pmids want to exclude the ones that say nucleotide sequence\n",
    "            if ('RX' in response[i]) and (('NUCLEOTIDE SEQUENCE' not in response[i - 1]) and ('NUCLEOTIDE SEQUENCE' not in response[i - 2]) and ('NUCLEOTIDE SEQUENCE' not in response[i - 3])):\n",
    "                #process string\n",
    "                pmid = response[i]\n",
    "                pmid = str(pmid.split()[1][7:-1])\n",
    "                pmid_list.append(pmid)\n",
    "        return pmid_list\n",
    "\n",
    "    #if not successful\n",
    "    else:\n",
    "        #get error\n",
    "        print('Error, Status Code:' % response.status_code)\n",
    "\n",
    "def unid_pmid_to_df(io = \"edge_list.csv\") -> pd.DataFrame:\n",
    "    \"\"\"\n",
    "    takes a csv file, gets the uniprot id column, and gets every pmid from that uniprotid, excluding the 'nucleotide\n",
    "    sequences'\n",
    "    @param io is the csv file to get parsed\n",
    "    @return df is the df with uniprotid-pmid\n",
    "    \"\"\"\n",
    "    df = pd.read_csv(io)\n",
    "    #get all unique identifiers\n",
    "    unid = list(set(df[\"UNIPROT_ID\"]))\n",
    "    print(\"---Import Completed---\", flush = True)\n",
    "    pmid_list = []\n",
    "    #iterate\n",
    "    for element in tqdm(unid, desc = \"Extracting PMIDs: \"):\n",
    "        pmid_list.append(extract_pmid_from_unid(element))\n",
    "    #print\n",
    "    print(\"----Extraction Done---\", flush = True)\n",
    "    dict_to_df = {\"UNIPROT_ID\" : unid, \"PMID\" : pmid_list}\n",
    "    return pd.DataFrame(dict_to_df)"
   ],
   "outputs": [],
   "metadata": {}
  },
  {
   "cell_type": "code",
   "execution_count": 38,
   "source": [
    "df = unid_pmid_to_df()\n",
    "df"
   ],
   "outputs": [
    {
     "output_type": "stream",
     "name": "stdout",
     "text": [
      "---Import Completed---\n"
     ]
    },
    {
     "output_type": "stream",
     "name": "stderr",
     "text": [
      "Extracting PMIDs: 100%|██████████| 828/828 [06:10<00:00,  2.24it/s]"
     ]
    },
    {
     "output_type": "stream",
     "name": "stdout",
     "text": [
      "----Extraction Done---\n"
     ]
    },
    {
     "output_type": "stream",
     "name": "stderr",
     "text": [
      "\n"
     ]
    },
    {
     "output_type": "execute_result",
     "data": {
      "text/plain": [
       "    UNIPROT_ID                                               PMID\n",
       "0       P48039                                         [31019306]\n",
       "1       P30542                               [16959974, 27134041]\n",
       "2       P17405  [8706124, 8702487, 9030779, 9393854, 12631268,...\n",
       "3       Q9P0X4                               [16740636, 19690332]\n",
       "4       O76082  [10454528, 19349973, 19690332, 23186163, 10425...\n",
       "..         ...                                                ...\n",
       "823     O00555  [8898206, 8988170, 11865310, 18400181, 9345107...\n",
       "824     Q9H8P0  [17986282, 20637498, 20700148, 22240719, 26855...\n",
       "825     P07333  [7683918, 7681396, 7845678, 10340379, 12882960...\n",
       "826     Q9UK32  [15042092, 15632195, 18813292, 21406692, 17344...\n",
       "827     P11166  [17081065, 18245775, 18347014, 18691976, 19449...\n",
       "\n",
       "[828 rows x 2 columns]"
      ],
      "text/html": [
       "<div>\n",
       "<style scoped>\n",
       "    .dataframe tbody tr th:only-of-type {\n",
       "        vertical-align: middle;\n",
       "    }\n",
       "\n",
       "    .dataframe tbody tr th {\n",
       "        vertical-align: top;\n",
       "    }\n",
       "\n",
       "    .dataframe thead th {\n",
       "        text-align: right;\n",
       "    }\n",
       "</style>\n",
       "<table border=\"1\" class=\"dataframe\">\n",
       "  <thead>\n",
       "    <tr style=\"text-align: right;\">\n",
       "      <th></th>\n",
       "      <th>UNIPROT_ID</th>\n",
       "      <th>PMID</th>\n",
       "    </tr>\n",
       "  </thead>\n",
       "  <tbody>\n",
       "    <tr>\n",
       "      <th>0</th>\n",
       "      <td>P48039</td>\n",
       "      <td>[31019306]</td>\n",
       "    </tr>\n",
       "    <tr>\n",
       "      <th>1</th>\n",
       "      <td>P30542</td>\n",
       "      <td>[16959974, 27134041]</td>\n",
       "    </tr>\n",
       "    <tr>\n",
       "      <th>2</th>\n",
       "      <td>P17405</td>\n",
       "      <td>[8706124, 8702487, 9030779, 9393854, 12631268,...</td>\n",
       "    </tr>\n",
       "    <tr>\n",
       "      <th>3</th>\n",
       "      <td>Q9P0X4</td>\n",
       "      <td>[16740636, 19690332]</td>\n",
       "    </tr>\n",
       "    <tr>\n",
       "      <th>4</th>\n",
       "      <td>O76082</td>\n",
       "      <td>[10454528, 19349973, 19690332, 23186163, 10425...</td>\n",
       "    </tr>\n",
       "    <tr>\n",
       "      <th>...</th>\n",
       "      <td>...</td>\n",
       "      <td>...</td>\n",
       "    </tr>\n",
       "    <tr>\n",
       "      <th>823</th>\n",
       "      <td>O00555</td>\n",
       "      <td>[8898206, 8988170, 11865310, 18400181, 9345107...</td>\n",
       "    </tr>\n",
       "    <tr>\n",
       "      <th>824</th>\n",
       "      <td>Q9H8P0</td>\n",
       "      <td>[17986282, 20637498, 20700148, 22240719, 26855...</td>\n",
       "    </tr>\n",
       "    <tr>\n",
       "      <th>825</th>\n",
       "      <td>P07333</td>\n",
       "      <td>[7683918, 7681396, 7845678, 10340379, 12882960...</td>\n",
       "    </tr>\n",
       "    <tr>\n",
       "      <th>826</th>\n",
       "      <td>Q9UK32</td>\n",
       "      <td>[15042092, 15632195, 18813292, 21406692, 17344...</td>\n",
       "    </tr>\n",
       "    <tr>\n",
       "      <th>827</th>\n",
       "      <td>P11166</td>\n",
       "      <td>[17081065, 18245775, 18347014, 18691976, 19449...</td>\n",
       "    </tr>\n",
       "  </tbody>\n",
       "</table>\n",
       "<p>828 rows × 2 columns</p>\n",
       "</div>"
      ]
     },
     "metadata": {},
     "execution_count": 38
    }
   ],
   "metadata": {}
  },
  {
   "cell_type": "code",
   "execution_count": null,
   "source": [],
   "outputs": [],
   "metadata": {}
  }
 ],
 "metadata": {
  "orig_nbformat": 4,
  "language_info": {
   "name": "python",
   "version": "3.8.8",
   "mimetype": "text/x-python",
   "codemirror_mode": {
    "name": "ipython",
    "version": 3
   },
   "pygments_lexer": "ipython3",
   "nbconvert_exporter": "python",
   "file_extension": ".py"
  },
  "kernelspec": {
   "name": "python3",
   "display_name": "Python 3.8.8 64-bit ('base': conda)"
  },
  "interpreter": {
   "hash": "dca0ade3e726a953b501b15e8e990130d2b7799f14cfd9f4271676035ebe5511"
  }
 },
 "nbformat": 4,
 "nbformat_minor": 2
}