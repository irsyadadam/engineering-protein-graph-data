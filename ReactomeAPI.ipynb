{
 "cells": [
  {
   "cell_type": "markdown",
   "metadata": {},
   "source": [
    "### Reactome API"
   ]
  },
  {
   "cell_type": "code",
   "execution_count": 31,
   "metadata": {},
   "outputs": [],
   "source": [
    "import os\n",
    "import requests\n",
    "import json"
   ]
  },
  {
   "cell_type": "code",
   "execution_count": 51,
   "metadata": {},
   "outputs": [],
   "source": [
    "#!pip install reactome2py"
   ]
  },
  {
   "cell_type": "markdown",
   "metadata": {},
   "source": [
    "### Implementation of Reactome Content Service [1]"
   ]
  },
  {
   "cell_type": "code",
   "execution_count": 34,
   "metadata": {},
   "outputs": [],
   "source": [
    "url = \"https://reactome.org/ContentService/data/pathway/\"\n",
    "ID = \"R-HSA-5673001\"\n",
    "r = os.system(\"curl -X GET \" + url+ID+ \"/containedEvents\")"
   ]
  },
  {
   "cell_type": "code",
   "execution_count": 36,
   "metadata": {},
   "outputs": [],
   "source": [
    "r1 = !curl -X GET \"https://reactome.org/ContentService/\\\n",
    "            data/pathway/R-HSA-5673001/containedEvents\""
   ]
  },
  {
   "cell_type": "code",
   "execution_count": 39,
   "metadata": {},
   "outputs": [],
   "source": [
    "r2 = !curl -X GET \"https://reactome.org/\\\n",
    "        ContentService/data/pathway/R-HSA-5673001/containedEvents\"\\\n",
    "            -H \"accept: application/json\""
   ]
  },
  {
   "cell_type": "markdown",
   "metadata": {},
   "source": [
    "### Reactome2py package [2]"
   ]
  },
  {
   "cell_type": "code",
   "execution_count": 53,
   "metadata": {},
   "outputs": [],
   "source": [
    "from reactome2py import content"
   ]
  },
  {
   "cell_type": "code",
   "execution_count": 54,
   "metadata": {},
   "outputs": [
    {
     "data": {
      "text/plain": [
       "{'@context': 'http://schema.org/',\n",
       " '@type': 'DataSet',\n",
       " 'citation': ['http://www.ncbi.nlm.nih.gov/pubmed/19616933',\n",
       "  'http://www.ncbi.nlm.nih.gov/pubmed/16807922',\n",
       "  'http://www.ncbi.nlm.nih.gov/pubmed/10580125',\n",
       "  'http://www.ncbi.nlm.nih.gov/pubmed/19647993'],\n",
       " 'creator': [{'@type': 'Person',\n",
       "   'affiliation': [],\n",
       "   'familyName': \"Dall'Olio\",\n",
       "   'givenName': 'Giovanni',\n",
       "   'url': 'http://europepmc.org/authors/0000-0001-9057-2480'}],\n",
       " 'description': 'N-linked glycosylation is the most important form of post-translational modification for proteins synthesized and folded in the Endoplasmic Reticulum (Stanley et al. 2009). An early study in 1999 revealed that about 50% of the proteins in the Swiss-Prot database at the time were N-glycosylated (Apweiler et al. 1999). It is now established that the majority of the proteins in the secretory pathway require glycosylation in order to achieve proper folding.<br>The addition of an N-glycan to a protein can have several roles (Shental-Bechor & Levy 2009). First, glycans enhance the solubility and stability of the proteins in the ER, the golgi and on the outside of the cell membrane, where the composition of the medium is strongly hydrophilic and where proteins, that are mostly hydrophobic, have difficulty folding properly. Second, N-glycans are used as signal molecules during the folding and transport process of the protein: they have the role of labels to determine when a protein must interact with a chaperon, be transported to the golgi, or targeted for degradation in case of major folding defects. Third, and most importantly, N-glycans on completely folded proteins are involved in a wide range of processes: they help determine the specificity of membrane receptors in innate immunity or in cell-to-cell interactions, they can change the properties of hormones and secreted proteins, or of the proteins in the vesicular system inside the cell.<br>All N-linked glycans are derived from a common 14-sugar oligosaccharide synthesized in the ER, which is attached co-translationally to a protein while this is being translated inside the reticulum. The process of the synthesis of this glycan, known as Synthesis of the N-glycan precursor or LLO, constitutes one of the most conserved pathways in eukaryotes, and has been also observed in some eubacteria. The attachment usually happens on an asparagine residue within the consensus sequence asparagine-X-threonine by an complex called oligosaccharyl transferase (OST).<br>After being attached to an unfolded protein, the glycan is used as a label molecule in the folding process (also known as Calnexin/Calreticulin cycle) (Lederkremer 2009). The majority of the glycoproteins in the ER require at least one glycosylated residue in order to achieve proper folding, even if it has been shown that a smaller portion of the proteins in the ER can be folded without this modification.<br>Once the glycoprotein has achieved proper folding, it is transported via the cis-Golgi through all the Golgi compartments, where the glycan is further modified according to the properties of the glycoprotein. This process involves relatively few enzymes but due to its combinatorial nature, can lead to several millions of different possible modifications. The exact topography of this network of reactions has not been established yet, representing one of the major challenges after the sequencing of the human genome (Hossler et al. 2006).<br>Since N-glycosylation is involved in an great number of different processes, from cell-cell interaction to folding control, mutations in one of the genes involved in glycan assembly and/or modification can lead to severe development problems (often affecting the central nervous system). All the diseases in genes involved in glycosylation are collectively known as Congenital Disorders of Glycosylation (CDG) (Sparks et al. 2003), and classified as CDG type I for the genes in the LLO synthesis pathway, and CDG type II for the others.',\n",
       " 'distribution': [{'@type': 'DataDownload',\n",
       "   'contentUrl': 'https://reactome.org/ContentService/exporter/sbml/446203.xml',\n",
       "   'fileFormat': 'SBML'},\n",
       "  {'@type': 'DataDownload',\n",
       "   'contentUrl': 'https://reactome.org/ReactomeRESTfulAPI/RESTfulWS/sbgnExporter/446203',\n",
       "   'fileFormat': 'SBGN'},\n",
       "  {'@type': 'DataDownload',\n",
       "   'contentUrl': 'https://reactome.org/ReactomeRESTfulAPI/RESTfulWS/biopaxExporter/Level2/446203',\n",
       "   'fileFormat': 'BIOPAX2'},\n",
       "  {'@type': 'DataDownload',\n",
       "   'contentUrl': 'https://reactome.org/ReactomeRESTfulAPI/RESTfulWS/biopaxExporter/Level3/446203',\n",
       "   'fileFormat': 'BIOPAX3'},\n",
       "  {'@type': 'DataDownload',\n",
       "   'contentUrl': 'https://reactome.org/cgi-bin/pdfexporter?DB=gk_current&ID=446203',\n",
       "   'fileFormat': 'PDF'},\n",
       "  {'@type': 'DataDownload',\n",
       "   'contentUrl': 'https://reactome.org/cgi-bin/rtfexporter?DB=gk_current&ID=446203',\n",
       "   'fileFormat': 'DOCX'},\n",
       "  {'@type': 'DataDownload',\n",
       "   'contentUrl': 'https://reactome.org/cgi-bin/protegeexporter?DB=gk_current&ID=446203',\n",
       "   'fileFormat': 'OWL'}],\n",
       " 'includedInDataCatalog': {'@type': 'DataCatalog',\n",
       "  'name': 'Reactome',\n",
       "  'url': 'https://reactome.org'},\n",
       " 'keywords': ['Pathway'],\n",
       " 'license': 'https://creativecommons.org/licenses/by/4.0/',\n",
       " 'name': 'Asparagine N-linked glycosylation',\n",
       " 'url': 'https://reactome.org/PathwayBrowser/#/R-HSA-446203',\n",
       " 'version': '75'}"
      ]
     },
     "execution_count": 54,
     "metadata": {},
     "output_type": "execute_result"
    }
   ],
   "source": [
    "content.discover(id='R-HSA-446203')"
   ]
  },
  {
   "cell_type": "code",
   "execution_count": 58,
   "metadata": {},
   "outputs": [
    {
     "data": {
      "text/plain": [
       "[{'className': 'Disease',\n",
       "  'databaseName': 'DOID',\n",
       "  'dbId': 5483113,\n",
       "  'displayName': '46 XY gonadal dysgenesis',\n",
       "  'identifier': '14448',\n",
       "  'name': ['46 XY gonadal dysgenesis'],\n",
       "  'schemaClass': 'Disease',\n",
       "  'synonym': ['Pure gonadal dysgenesis 46,XY (disorder)',\n",
       "   '46,XY SEX REVERSAL'],\n",
       "  'url': 'https://www.ebi.ac.uk/ols/ontologies/doid/terms?obo_id=DOID:14448'}]"
      ]
     },
     "execution_count": 58,
     "metadata": {},
     "output_type": "execute_result"
    }
   ],
   "source": [
    "data = content.disease(doid=False)\n",
    "data[0:1]"
   ]
  },
  {
   "cell_type": "code",
   "execution_count": 59,
   "metadata": {},
   "outputs": [
    {
     "data": {
      "text/plain": [
       "[{'className': 'Complex',\n",
       "  'dbId': 109783,\n",
       "  'displayName': 'p21 RAS:GTP [plasma membrane]',\n",
       "  'inDisease': False,\n",
       "  'name': ['p21 RAS:GTP'],\n",
       "  'schemaClass': 'Complex',\n",
       "  'speciesName': 'Homo sapiens',\n",
       "  'stId': 'R-HSA-109783',\n",
       "  'stIdVersion': 'R-HSA-109783.2'}]"
      ]
     },
     "execution_count": 59,
     "metadata": {},
     "output_type": "execute_result"
    }
   ],
   "source": [
    "data = content.entities_complex(id='R-HSA-5674003', exclude_structures=False)\n",
    "data[0:1]"
   ]
  },
  {
   "cell_type": "markdown",
   "metadata": {},
   "source": [
    "### References\n",
    "1. https://reactome.org/ContentService/#/\n",
    "2. https://reactome.github.io/reactome2py/content.html#reactome2py.content.discover"
   ]
  },
  {
   "cell_type": "code",
   "execution_count": null,
   "metadata": {},
   "outputs": [],
   "source": []
  }
 ],
 "metadata": {
  "kernelspec": {
   "display_name": "Python 3",
   "language": "python",
   "name": "python3"
  },
  "language_info": {
   "codemirror_mode": {
    "name": "ipython",
    "version": 3
   },
   "file_extension": ".py",
   "mimetype": "text/x-python",
   "name": "python",
   "nbconvert_exporter": "python",
   "pygments_lexer": "ipython3",
   "version": "3.6.6"
  }
 },
 "nbformat": 4,
 "nbformat_minor": 2
}
