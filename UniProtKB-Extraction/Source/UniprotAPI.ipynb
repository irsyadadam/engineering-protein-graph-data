{
 "cells": [
  {
   "cell_type": "markdown",
   "source": [
    "## Uniprot REST API to extract Protein Data"
   ],
   "metadata": {}
  },
  {
   "cell_type": "code",
   "execution_count": 1,
   "source": [
    "#!pip install xmlschema"
   ],
   "outputs": [],
   "metadata": {}
  },
  {
   "cell_type": "markdown",
   "source": [
    "### [Programmatic access - Retrieving entries via queries](https://www.uniprot.org/help/api_queries)\n"
   ],
   "metadata": {}
  },
  {
   "cell_type": "code",
   "execution_count": 28,
   "source": [
    "\"\"\"\r\n",
    "Queries Uniprot database and retrieves protein data.\r\n",
    "\"\"\"\r\n",
    "import urllib.request\r\n",
    "from urllib.error import HTTPError\r\n",
    "from lxml import etree\r\n",
    "import lxml.etree\r\n",
    "import lxml.html\r\n",
    "import json\r\n",
    "import xmlschema\r\n",
    "import lxml\r\n",
    "import requests\r\n",
    "from bs4 import BeautifulSoup\r\n",
    "import html"
   ],
   "outputs": [],
   "metadata": {}
  },
  {
   "cell_type": "markdown",
   "source": [
    "#### Query to search a single Protein detail"
   ],
   "metadata": {}
  },
  {
   "cell_type": "code",
   "execution_count": 1,
   "source": [
    "protein = 'Q6UX04'\r\n",
    "format = '.xml'\r\n",
    "url = 'https://www.uniprot.org/uniprot/'+protein+ format   \r\n",
    "#The URL with the protein.xml at the end\r\n",
    "        \r\n",
    "with urllib.request.urlopen(url) as r:                     \r\n",
    "    #Reads the data from the URL for the particular protein\r\n",
    "    raw_data = r.read().strip()\r\n",
    "\r\n",
    "tree = etree.fromstring(raw_data)                          \r\n",
    "#Makes a tree out of the protein's raw data from UniProt\r\n",
    "schema = xmlschema.XMLSchema('https://www.uniprot.org/docs/uniprot.xsd') \r\n",
    "#Makes a schema out of the XML structure\r\n",
    "entry_dict = schema.to_dict(tree)       \r\n",
    "#Makes a dictionary out of the XML schema. (What's the 'tree' argument?)\r\n",
    "content = entry_dict['entry'][0]        \r\n",
    "#The first entry of the dictionary is assigned a variable. It has the xml structure of the protein info\r\n",
    "names = content['protein']                      \r\n",
    "#The information about the protein and it's other info is displayed here and below"
   ],
   "outputs": [
    {
     "output_type": "error",
     "ename": "NameError",
     "evalue": "name 'urllib' is not defined",
     "traceback": [
      "\u001b[1;31m---------------------------------------------------------------------------\u001b[0m",
      "\u001b[1;31mNameError\u001b[0m                                 Traceback (most recent call last)",
      "\u001b[1;32m<ipython-input-1-3bec9952be15>\u001b[0m in \u001b[0;36m<module>\u001b[1;34m\u001b[0m\n\u001b[0;32m      4\u001b[0m \u001b[1;31m#The URL with the protein.xml at the end\u001b[0m\u001b[1;33m\u001b[0m\u001b[1;33m\u001b[0m\u001b[1;33m\u001b[0m\u001b[0m\n\u001b[0;32m      5\u001b[0m \u001b[1;33m\u001b[0m\u001b[0m\n\u001b[1;32m----> 6\u001b[1;33m \u001b[1;32mwith\u001b[0m \u001b[0murllib\u001b[0m\u001b[1;33m.\u001b[0m\u001b[0mrequest\u001b[0m\u001b[1;33m.\u001b[0m\u001b[0murlopen\u001b[0m\u001b[1;33m(\u001b[0m\u001b[0murl\u001b[0m\u001b[1;33m)\u001b[0m \u001b[1;32mas\u001b[0m \u001b[0mr\u001b[0m\u001b[1;33m:\u001b[0m\u001b[1;33m\u001b[0m\u001b[1;33m\u001b[0m\u001b[0m\n\u001b[0m\u001b[0;32m      7\u001b[0m     \u001b[1;31m#Reads the data from the URL for the particular protein\u001b[0m\u001b[1;33m\u001b[0m\u001b[1;33m\u001b[0m\u001b[1;33m\u001b[0m\u001b[0m\n\u001b[0;32m      8\u001b[0m     \u001b[0mraw_data\u001b[0m \u001b[1;33m=\u001b[0m \u001b[0mr\u001b[0m\u001b[1;33m.\u001b[0m\u001b[0mread\u001b[0m\u001b[1;33m(\u001b[0m\u001b[1;33m)\u001b[0m\u001b[1;33m.\u001b[0m\u001b[0mstrip\u001b[0m\u001b[1;33m(\u001b[0m\u001b[1;33m)\u001b[0m\u001b[1;33m\u001b[0m\u001b[1;33m\u001b[0m\u001b[0m\n",
      "\u001b[1;31mNameError\u001b[0m: name 'urllib' is not defined"
     ]
    }
   ],
   "metadata": {}
  },
  {
   "cell_type": "code",
   "execution_count": 4,
   "source": [
    "names"
   ],
   "outputs": [
    {
     "output_type": "execute_result",
     "data": {
      "text/plain": [
       "{'alternativeName': [{'fullName': {'$': 'Antigen NY-CO-10',\n",
       "    '@evidence': [16]}},\n",
       "  {'fullName': {'$': 'Probable inactive peptidyl-prolyl cis-trans isomerase CWC27 homolog',\n",
       "    '@evidence': [18]},\n",
       "   'shortName': [{'$': 'PPIase CWC27', '@evidence': [18]}]},\n",
       "  {'fullName': 'Serologically defined colon cancer antigen 10'}],\n",
       " 'recommendedName': {'fullName': {'$': 'Spliceosome-associated protein CWC27 homolog',\n",
       "   '@evidence': [17]}}}"
      ]
     },
     "metadata": {},
     "execution_count": 4
    }
   ],
   "metadata": {}
  },
  {
   "cell_type": "code",
   "execution_count": 5,
   "source": [
    "names['alternativeName']"
   ],
   "outputs": [
    {
     "output_type": "execute_result",
     "data": {
      "text/plain": [
       "[{'fullName': {'$': 'Antigen NY-CO-10', '@evidence': [16]}},\n",
       " {'fullName': {'$': 'Probable inactive peptidyl-prolyl cis-trans isomerase CWC27 homolog',\n",
       "   '@evidence': [18]},\n",
       "  'shortName': [{'$': 'PPIase CWC27', '@evidence': [18]}]},\n",
       " {'fullName': 'Serologically defined colon cancer antigen 10'}]"
      ]
     },
     "metadata": {},
     "execution_count": 5
    }
   ],
   "metadata": {}
  },
  {
   "cell_type": "code",
   "execution_count": 6,
   "source": [
    "for item in names['alternativeName']:\r\n",
    "    print(item['fullName'])"
   ],
   "outputs": [
    {
     "output_type": "stream",
     "name": "stdout",
     "text": [
      "{'@evidence': [16], '$': 'Antigen NY-CO-10'}\n",
      "{'@evidence': [18], '$': 'Probable inactive peptidyl-prolyl cis-trans isomerase CWC27 homolog'}\n",
      "Serologically defined colon cancer antigen 10\n"
     ]
    }
   ],
   "metadata": {}
  },
  {
   "cell_type": "code",
   "execution_count": 7,
   "source": [
    "for item in names['alternativeName']:\r\n",
    "    try:\r\n",
    "        print(item['fullName']['$'])\r\n",
    "    except:\r\n",
    "        print(item['fullName'])"
   ],
   "outputs": [
    {
     "output_type": "stream",
     "name": "stdout",
     "text": [
      "Antigen NY-CO-10\n",
      "Probable inactive peptidyl-prolyl cis-trans isomerase CWC27 homolog\n",
      "Serologically defined colon cancer antigen 10\n"
     ]
    }
   ],
   "metadata": {}
  },
  {
   "cell_type": "code",
   "execution_count": 8,
   "source": [
    "names['recommendedName']"
   ],
   "outputs": [
    {
     "output_type": "execute_result",
     "data": {
      "text/plain": [
       "{'fullName': {'$': 'Spliceosome-associated protein CWC27 homolog',\n",
       "  '@evidence': [17]}}"
      ]
     },
     "metadata": {},
     "execution_count": 8
    }
   ],
   "metadata": {}
  },
  {
   "cell_type": "code",
   "execution_count": 9,
   "source": [
    "names['recommendedName']['fullName']['$']"
   ],
   "outputs": [
    {
     "output_type": "execute_result",
     "data": {
      "text/plain": [
       "'Spliceosome-associated protein CWC27 homolog'"
      ]
     },
     "metadata": {},
     "execution_count": 9
    }
   ],
   "metadata": {}
  },
  {
   "cell_type": "code",
   "execution_count": 10,
   "source": [
    "names['recommendedName']['fullName']"
   ],
   "outputs": [
    {
     "output_type": "execute_result",
     "data": {
      "text/plain": [
       "{'$': 'Spliceosome-associated protein CWC27 homolog', '@evidence': [17]}"
      ]
     },
     "metadata": {},
     "execution_count": 10
    }
   ],
   "metadata": {}
  },
  {
   "cell_type": "code",
   "execution_count": 11,
   "source": [
    "names['recommendedName']['fullName']['$']"
   ],
   "outputs": [
    {
     "output_type": "execute_result",
     "data": {
      "text/plain": [
       "'Spliceosome-associated protein CWC27 homolog'"
      ]
     },
     "metadata": {},
     "execution_count": 11
    }
   ],
   "metadata": {}
  },
  {
   "cell_type": "markdown",
   "source": [
    "#### Data Extraction"
   ],
   "metadata": {}
  },
  {
   "cell_type": "code",
   "execution_count": 12,
   "source": [
    "import pandas as pd\r\n",
    "\r\n",
    "df = pd.read_csv(\"raw-protein.csv\")\r\n",
    "df.head(10)"
   ],
   "outputs": [
    {
     "output_type": "execute_result",
     "data": {
      "text/plain": [
       "  Uniprot ID Gene Name Uniprot Entry  \\\n",
       "0     O00203     AP3B1   AP3B1_HUMAN   \n",
       "1     O60885      BRD4    BRD4_HUMAN   \n",
       "2     P25440      BRD2    BRD2_HUMAN   \n",
       "3     Q6UX04     CWC27   CWC27_HUMAN   \n",
       "4     Q86VM9    ZC3H18   ZCH18_HUMAN   \n",
       "5     Q8IWA5   SLC44A2    CTL2_HUMAN   \n",
       "6     O75439     PMPCB    MPPB_HUMAN   \n",
       "7     O95070     YIF1A   YIF1A_HUMAN   \n",
       "8     P05026    ATP1B1   AT1B1_HUMAN   \n",
       "9     P11310     ACADM   ACADM_HUMAN   \n",
       "\n",
       "                                Uniprot Protein Name  \n",
       "0  AP-3 complex subunit beta-1 (Adaptor protein c...  \n",
       "1   Bromodomain-containing protein 4 (Protein HUNK1)  \n",
       "2  Bromodomain-containing protein 2 (O27.1.1) (Re...  \n",
       "3  Spliceosome-associated protein CWC27 homolog (...  \n",
       "4  Zinc finger CCCH domain-containing protein 18 ...  \n",
       "5  Choline transporter-like protein 2 (Solute car...  \n",
       "6  Mitochondrial-processing peptidase subunit bet...  \n",
       "7  Protein YIF1A (54TMp) (YIP1-interacting factor...  \n",
       "8  Sodium/potassium-transporting ATPase subunit b...  \n",
       "9  Medium-chain specific acyl-CoA dehydrogenase, ...  "
      ],
      "text/html": [
       "<div>\n",
       "<style scoped>\n",
       "    .dataframe tbody tr th:only-of-type {\n",
       "        vertical-align: middle;\n",
       "    }\n",
       "\n",
       "    .dataframe tbody tr th {\n",
       "        vertical-align: top;\n",
       "    }\n",
       "\n",
       "    .dataframe thead th {\n",
       "        text-align: right;\n",
       "    }\n",
       "</style>\n",
       "<table border=\"1\" class=\"dataframe\">\n",
       "  <thead>\n",
       "    <tr style=\"text-align: right;\">\n",
       "      <th></th>\n",
       "      <th>Uniprot ID</th>\n",
       "      <th>Gene Name</th>\n",
       "      <th>Uniprot Entry</th>\n",
       "      <th>Uniprot Protein Name</th>\n",
       "    </tr>\n",
       "  </thead>\n",
       "  <tbody>\n",
       "    <tr>\n",
       "      <th>0</th>\n",
       "      <td>O00203</td>\n",
       "      <td>AP3B1</td>\n",
       "      <td>AP3B1_HUMAN</td>\n",
       "      <td>AP-3 complex subunit beta-1 (Adaptor protein c...</td>\n",
       "    </tr>\n",
       "    <tr>\n",
       "      <th>1</th>\n",
       "      <td>O60885</td>\n",
       "      <td>BRD4</td>\n",
       "      <td>BRD4_HUMAN</td>\n",
       "      <td>Bromodomain-containing protein 4 (Protein HUNK1)</td>\n",
       "    </tr>\n",
       "    <tr>\n",
       "      <th>2</th>\n",
       "      <td>P25440</td>\n",
       "      <td>BRD2</td>\n",
       "      <td>BRD2_HUMAN</td>\n",
       "      <td>Bromodomain-containing protein 2 (O27.1.1) (Re...</td>\n",
       "    </tr>\n",
       "    <tr>\n",
       "      <th>3</th>\n",
       "      <td>Q6UX04</td>\n",
       "      <td>CWC27</td>\n",
       "      <td>CWC27_HUMAN</td>\n",
       "      <td>Spliceosome-associated protein CWC27 homolog (...</td>\n",
       "    </tr>\n",
       "    <tr>\n",
       "      <th>4</th>\n",
       "      <td>Q86VM9</td>\n",
       "      <td>ZC3H18</td>\n",
       "      <td>ZCH18_HUMAN</td>\n",
       "      <td>Zinc finger CCCH domain-containing protein 18 ...</td>\n",
       "    </tr>\n",
       "    <tr>\n",
       "      <th>5</th>\n",
       "      <td>Q8IWA5</td>\n",
       "      <td>SLC44A2</td>\n",
       "      <td>CTL2_HUMAN</td>\n",
       "      <td>Choline transporter-like protein 2 (Solute car...</td>\n",
       "    </tr>\n",
       "    <tr>\n",
       "      <th>6</th>\n",
       "      <td>O75439</td>\n",
       "      <td>PMPCB</td>\n",
       "      <td>MPPB_HUMAN</td>\n",
       "      <td>Mitochondrial-processing peptidase subunit bet...</td>\n",
       "    </tr>\n",
       "    <tr>\n",
       "      <th>7</th>\n",
       "      <td>O95070</td>\n",
       "      <td>YIF1A</td>\n",
       "      <td>YIF1A_HUMAN</td>\n",
       "      <td>Protein YIF1A (54TMp) (YIP1-interacting factor...</td>\n",
       "    </tr>\n",
       "    <tr>\n",
       "      <th>8</th>\n",
       "      <td>P05026</td>\n",
       "      <td>ATP1B1</td>\n",
       "      <td>AT1B1_HUMAN</td>\n",
       "      <td>Sodium/potassium-transporting ATPase subunit b...</td>\n",
       "    </tr>\n",
       "    <tr>\n",
       "      <th>9</th>\n",
       "      <td>P11310</td>\n",
       "      <td>ACADM</td>\n",
       "      <td>ACADM_HUMAN</td>\n",
       "      <td>Medium-chain specific acyl-CoA dehydrogenase, ...</td>\n",
       "    </tr>\n",
       "  </tbody>\n",
       "</table>\n",
       "</div>"
      ]
     },
     "metadata": {},
     "execution_count": 12
    }
   ],
   "metadata": {}
  },
  {
   "cell_type": "code",
   "execution_count": 13,
   "source": [
    "uids = list(df['Uniprot ID'])"
   ],
   "outputs": [],
   "metadata": {}
  },
  {
   "cell_type": "code",
   "execution_count": 18,
   "source": [
    "len(uids)"
   ],
   "outputs": [
    {
     "output_type": "execute_result",
     "data": {
      "text/plain": [
       "333"
      ]
     },
     "metadata": {},
     "execution_count": 18
    }
   ],
   "metadata": {}
  },
  {
   "cell_type": "code",
   "execution_count": 19,
   "source": [
    "format = '.xml'\r\n",
    "#The URL with the protein.xml at the end\r\n",
    "url = 'https://www.uniprot.org/uniprot/'\r\n",
    "#Makes a schema out of the XML structure\r\n",
    "schema = xmlschema.XMLSchema('https://www.uniprot.org/docs/uniprot.xsd') \r\n",
    "\r\n",
    "DATA = []\r\n",
    "LOG = []\r\n",
    "for ID in uids:\r\n",
    "    names = []\r\n",
    "    #print(ID)\r\n",
    "    ID = str(ID)\r\n",
    "    data = {\"ID\":ID,\"names\":[]}\r\n",
    "    \r\n",
    "    search_url = url+ID+format   \r\n",
    "    \r\n",
    "    try:   \r\n",
    "        with urllib.request.urlopen(search_url) as r:                     \r\n",
    "            #Reads the data from the URL for the particular protein\r\n",
    "            raw_data = r.read().strip()\r\n",
    "\r\n",
    "            tree = etree.fromstring(raw_data)                          \r\n",
    "            #Makes a tree out of the protein's raw data from UniProt\r\n",
    "\r\n",
    "\r\n",
    "            entry_dict = schema.to_dict(tree)       \r\n",
    "            #Makes a dictionary out of the XML schema. (What's the 'tree' argument?)\r\n",
    "            content = entry_dict['entry'][0]        \r\n",
    "            #The first entry of the dictionary is assigned a variable. It has the xml structure of the protein info\r\n",
    "            names = content['protein']                      \r\n",
    "            #The information about the protein and it's other info is displayed here and below\r\n",
    "    except:\r\n",
    "        print(ID, \"not found!\")\r\n",
    "        \r\n",
    "    if names:\r\n",
    "        \r\n",
    "        #recomended name---------------------------\r\n",
    "        try:\r\n",
    "            rName = names['recommendedName']['fullName']\r\n",
    "            \r\n",
    "            if type(rName)==dict:\r\n",
    "                try:\r\n",
    "                    data['names'].append(rName['$'])\r\n",
    "                except:\r\n",
    "                    print(\"$ rname not found!\")\r\n",
    "            else:\r\n",
    "                try: \r\n",
    "                    data['names'].append(rName)\r\n",
    "                except:\r\n",
    "                    print(\"$ rname not found!\")\r\n",
    "        except:\r\n",
    "            LOG.append({ID: \"no  reco full name\"})\r\n",
    "        \r\n",
    "        try:\r\n",
    "            sName = names['recommendedName']['shortName']\r\n",
    "            \r\n",
    "            if type(sName)==list:\r\n",
    "                try:\r\n",
    "                    data['names'].append(sName[0]['$'])\r\n",
    "                except:\r\n",
    "                    for st in sName:\r\n",
    "                        data['names'].append(st)\r\n",
    "            else:\r\n",
    "                try:\r\n",
    "                    data['names'].append(sName)\r\n",
    "                except:\r\n",
    "                    print(\"$ sname not found!\")\r\n",
    "        except:\r\n",
    "            LOG.append({ID:\"no Short Name\"})\r\n",
    "            \r\n",
    "        #EC number ------------------------------------------    \r\n",
    "        try:\r\n",
    "            ecnum = names['recommendedName']['ecNumber']\r\n",
    "            if type(ecnum) == list:\r\n",
    "                for et in ecnum:\r\n",
    "                    try:\r\n",
    "                        data['names'].append(\"EC \" + et['$'])\r\n",
    "                    except:\r\n",
    "                        data['names'].append(\"EC \" + et)\r\n",
    "        except:\r\n",
    "            LOG.append({ID:\"no EC num\"})\r\n",
    "            \r\n",
    "            \r\n",
    "        #alternative names---------------------------------------    \r\n",
    "        try:\r\n",
    "            aNames_list = names['alternativeName']\r\n",
    "        except:\r\n",
    "            LOG.append(ID)\r\n",
    "            \r\n",
    "        if aNames_list:\r\n",
    "            for item in aNames_list:\r\n",
    "                try:\r\n",
    "                    afName = item[\"fullName\"]\r\n",
    "                    if type(afName)==dict:\r\n",
    "                        try: \r\n",
    "                            data['names'].append(afName['$'])\r\n",
    "                        except:\r\n",
    "                            print(\"alt fullname not found\")\r\n",
    "                    else: \r\n",
    "                        data['names'].append(afName)\r\n",
    "                except:\r\n",
    "                    LOG.append({ID:\"no alt full name\"})\r\n",
    "\r\n",
    "                try:\r\n",
    "                    asName = item[\"shortName\"]\r\n",
    "                    if type(asName)==list:\r\n",
    "                        try: \r\n",
    "                            data['names'].append(asName[0]['$'])\r\n",
    "                        except:\r\n",
    "                            for st in asName:\r\n",
    "                                data['names'].append(st)\r\n",
    "                    else:\r\n",
    "                        data['names'].append(asName)\r\n",
    "                except:\r\n",
    "                    LOG.append({ID: \"no reco short name\"})\r\n",
    "    DATA.append(data)\r\n",
    "    #print(names)\r\n",
    "    #print(\"=========================================\")\r\n",
    "    #print(data)\r\n",
    "    #print(\"-------------------------------------\")"
   ],
   "outputs": [],
   "metadata": {}
  },
  {
   "cell_type": "code",
   "execution_count": 20,
   "source": [
    "with open(\"covid-proteins.json\",'w') as f:\r\n",
    "    json.dump(DATA,f)"
   ],
   "outputs": [],
   "metadata": {}
  },
  {
   "cell_type": "code",
   "execution_count": 21,
   "source": [
    "DATA[0:10]"
   ],
   "outputs": [
    {
     "output_type": "execute_result",
     "data": {
      "text/plain": [
       "[{'ID': 'O00203',\n",
       "  'names': ['AP-3 complex subunit beta-1',\n",
       "   'Adaptor protein complex AP-3 subunit beta-1',\n",
       "   'Adaptor-related protein complex 3 subunit beta-1',\n",
       "   'Beta-3A-adaptin',\n",
       "   'Clathrin assembly protein complex 3 beta-1 large chain']},\n",
       " {'ID': 'O60885',\n",
       "  'names': ['Bromodomain-containing protein 4', 'Protein HUNK1']},\n",
       " {'ID': 'P25440',\n",
       "  'names': ['Bromodomain-containing protein 2',\n",
       "   'O27.1.1',\n",
       "   'Really interesting new gene 3 protein']},\n",
       " {'ID': 'Q6UX04',\n",
       "  'names': ['Spliceosome-associated protein CWC27 homolog',\n",
       "   'Antigen NY-CO-10',\n",
       "   'Probable inactive peptidyl-prolyl cis-trans isomerase CWC27 homolog',\n",
       "   'PPIase CWC27',\n",
       "   'Serologically defined colon cancer antigen 10']},\n",
       " {'ID': 'Q86VM9',\n",
       "  'names': ['Zinc finger CCCH domain-containing protein 18',\n",
       "   'Nuclear protein NHN1']},\n",
       " {'ID': 'Q8IWA5',\n",
       "  'names': ['Choline transporter-like protein 2',\n",
       "   'Solute carrier family 44 member 2']},\n",
       " {'ID': 'O75439',\n",
       "  'names': ['Mitochondrial-processing peptidase subunit beta',\n",
       "   'EC 3.4.24.64',\n",
       "   'Beta-MPP',\n",
       "   'P-52']},\n",
       " {'ID': 'O95070',\n",
       "  'names': ['Protein YIF1A', '54TMp', 'YIP1-interacting factor homolog A']},\n",
       " {'ID': 'P05026',\n",
       "  'names': ['Sodium/potassium-transporting ATPase subunit beta-1',\n",
       "   'Sodium/potassium-dependent ATPase subunit beta-1']},\n",
       " {'ID': 'P11310',\n",
       "  'names': ['Medium-chain specific acyl-CoA dehydrogenase, mitochondrial',\n",
       "   'MCAD',\n",
       "   'EC 1.3.8.7',\n",
       "   'Medium chain acyl-CoA dehydrogenase',\n",
       "   'MCADH']}]"
      ]
     },
     "metadata": {},
     "execution_count": 21
    }
   ],
   "metadata": {}
  },
  {
   "cell_type": "code",
   "execution_count": 22,
   "source": [
    "len(DATA)"
   ],
   "outputs": [
    {
     "output_type": "execute_result",
     "data": {
      "text/plain": [
       "333"
      ]
     },
     "metadata": {},
     "execution_count": 22
    }
   ],
   "metadata": {}
  },
  {
   "cell_type": "code",
   "execution_count": 26,
   "source": [
    "with open(\"covid-protein.txt\", 'w') as f:\r\n",
    "    for item in DATA:\r\n",
    "        ID = item['ID']\r\n",
    "        line = ID + \"|\"\r\n",
    "        names = item['names']\r\n",
    "        for n in names:\r\n",
    "            n = n.lower()\r\n",
    "            n = n.replace(\" \",\"_\")\r\n",
    "            line = line + n + \"|\"\r\n",
    "        f.write(line[0:-1])\r\n",
    "        f.write(\"\\n\")"
   ],
   "outputs": [],
   "metadata": {}
  },
  {
   "cell_type": "code",
   "execution_count": 27,
   "source": [
    "with open(\"covs.txt\", 'w') as f:\r\n",
    "    for item in DATA:\r\n",
    "        line = \"\"\r\n",
    "        names = item['names']\r\n",
    "        for n in names:\r\n",
    "            n = n.lower()\r\n",
    "            n = n.replace(\" \",\"_\")\r\n",
    "            line = line + n + \"|\"\r\n",
    "        f.write(line[0:-1])\r\n",
    "        f.write(\"\\n\")"
   ],
   "outputs": [],
   "metadata": {}
  },
  {
   "cell_type": "markdown",
   "source": [
    "#### Final Data"
   ],
   "metadata": {}
  },
  {
   "cell_type": "code",
   "execution_count": 29,
   "source": [
    "with open(\"covid-proteins.json\",'r') as f:\n",
    "    DATA = json.load(f)"
   ],
   "outputs": [],
   "metadata": {}
  },
  {
   "cell_type": "code",
   "execution_count": 30,
   "source": [
    "DF = pd.DataFrame(DATA)"
   ],
   "outputs": [],
   "metadata": {}
  },
  {
   "cell_type": "code",
   "execution_count": 34,
   "source": [
    "DF['rname'] = DF['names'].apply(lambda x : x[0])"
   ],
   "outputs": [],
   "metadata": {}
  },
  {
   "cell_type": "code",
   "execution_count": 35,
   "source": [
    "DF.head()"
   ],
   "outputs": [
    {
     "output_type": "execute_result",
     "data": {
      "text/plain": [
       "       ID                                              names  \\\n",
       "0  O00203  [AP-3 complex subunit beta-1, Adaptor protein ...   \n",
       "1  O60885  [Bromodomain-containing protein 4, Protein HUNK1]   \n",
       "2  P25440  [Bromodomain-containing protein 2, O27.1.1, Re...   \n",
       "3  Q6UX04  [Spliceosome-associated protein CWC27 homolog,...   \n",
       "4  Q86VM9  [Zinc finger CCCH domain-containing protein 18...   \n",
       "\n",
       "                                           rname  \n",
       "0                    AP-3 complex subunit beta-1  \n",
       "1               Bromodomain-containing protein 4  \n",
       "2               Bromodomain-containing protein 2  \n",
       "3   Spliceosome-associated protein CWC27 homolog  \n",
       "4  Zinc finger CCCH domain-containing protein 18  "
      ],
      "text/html": [
       "<div>\n",
       "<style scoped>\n",
       "    .dataframe tbody tr th:only-of-type {\n",
       "        vertical-align: middle;\n",
       "    }\n",
       "\n",
       "    .dataframe tbody tr th {\n",
       "        vertical-align: top;\n",
       "    }\n",
       "\n",
       "    .dataframe thead th {\n",
       "        text-align: right;\n",
       "    }\n",
       "</style>\n",
       "<table border=\"1\" class=\"dataframe\">\n",
       "  <thead>\n",
       "    <tr style=\"text-align: right;\">\n",
       "      <th></th>\n",
       "      <th>ID</th>\n",
       "      <th>names</th>\n",
       "      <th>rname</th>\n",
       "    </tr>\n",
       "  </thead>\n",
       "  <tbody>\n",
       "    <tr>\n",
       "      <th>0</th>\n",
       "      <td>O00203</td>\n",
       "      <td>[AP-3 complex subunit beta-1, Adaptor protein ...</td>\n",
       "      <td>AP-3 complex subunit beta-1</td>\n",
       "    </tr>\n",
       "    <tr>\n",
       "      <th>1</th>\n",
       "      <td>O60885</td>\n",
       "      <td>[Bromodomain-containing protein 4, Protein HUNK1]</td>\n",
       "      <td>Bromodomain-containing protein 4</td>\n",
       "    </tr>\n",
       "    <tr>\n",
       "      <th>2</th>\n",
       "      <td>P25440</td>\n",
       "      <td>[Bromodomain-containing protein 2, O27.1.1, Re...</td>\n",
       "      <td>Bromodomain-containing protein 2</td>\n",
       "    </tr>\n",
       "    <tr>\n",
       "      <th>3</th>\n",
       "      <td>Q6UX04</td>\n",
       "      <td>[Spliceosome-associated protein CWC27 homolog,...</td>\n",
       "      <td>Spliceosome-associated protein CWC27 homolog</td>\n",
       "    </tr>\n",
       "    <tr>\n",
       "      <th>4</th>\n",
       "      <td>Q86VM9</td>\n",
       "      <td>[Zinc finger CCCH domain-containing protein 18...</td>\n",
       "      <td>Zinc finger CCCH domain-containing protein 18</td>\n",
       "    </tr>\n",
       "  </tbody>\n",
       "</table>\n",
       "</div>"
      ]
     },
     "metadata": {},
     "execution_count": 35
    }
   ],
   "metadata": {}
  },
  {
   "cell_type": "code",
   "execution_count": 36,
   "source": [
    "DF.to_csv(\"covid-proteins.csv\")"
   ],
   "outputs": [],
   "metadata": {}
  },
  {
   "cell_type": "code",
   "execution_count": 38,
   "source": [
    "id2name = {}\n",
    "for ID, name in zip(DF['ID'],DF['rname']):\n",
    "    id2name.update({ID:name})\n",
    "    "
   ],
   "outputs": [],
   "metadata": {}
  },
  {
   "cell_type": "code",
   "execution_count": 40,
   "source": [
    "#id2name"
   ],
   "outputs": [],
   "metadata": {}
  },
  {
   "cell_type": "code",
   "execution_count": 41,
   "source": [
    "with open(\"id2name.json\",'w') as f:\n",
    "    json.dump(id2name,f)"
   ],
   "outputs": [],
   "metadata": {}
  },
  {
   "cell_type": "code",
   "execution_count": null,
   "source": [],
   "outputs": [],
   "metadata": {}
  }
 ],
 "metadata": {
  "kernelspec": {
   "name": "python3",
   "display_name": "Python 3.8.3 64-bit ('base': conda)"
  },
  "language_info": {
   "codemirror_mode": {
    "name": "ipython",
    "version": 3
   },
   "file_extension": ".py",
   "mimetype": "text/x-python",
   "name": "python",
   "nbconvert_exporter": "python",
   "pygments_lexer": "ipython3",
   "version": "3.8.3"
  },
  "interpreter": {
   "hash": "da9952b49cbe8d96f4cd94137675a40eefb933987d5b5eb67fec8d17888ef93b"
  }
 },
 "nbformat": 4,
 "nbformat_minor": 2
}