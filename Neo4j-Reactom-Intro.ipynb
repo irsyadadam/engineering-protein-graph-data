{
 "cells": [
  {
   "cell_type": "markdown",
   "metadata": {},
   "source": [
    "## Neo4j and Reactome"
   ]
  },
  {
   "cell_type": "code",
   "execution_count": 1,
   "metadata": {},
   "outputs": [],
   "source": [
    "import pandas as pd\n",
    "import json\n",
    "from neo4j import GraphDatabase"
   ]
  },
  {
   "cell_type": "code",
   "execution_count": 2,
   "metadata": {},
   "outputs": [],
   "source": [
    "driver = GraphDatabase.driver(uri = \"bolt://localhost:7687\", auth = (\"neo4j\",\"Aim1008\"))"
   ]
  },
  {
   "cell_type": "markdown",
   "metadata": {},
   "source": [
    "### Drug"
   ]
  },
  {
   "cell_type": "code",
   "execution_count": 3,
   "metadata": {},
   "outputs": [
    {
     "name": "stdout",
     "output_type": "stream",
     "text": [
      "Name: ['trastuzumab', 'herceptin', 'D5v8', 'R-597'] id: R-ALL-9634466\n",
      "Name: ['CP-724714'] id: R-ALL-9649889\n",
      "Name: ['Afatinib', 'BIBW2992', 'Irreversible TKI inhibitor afatinib generic inhibits  EGFR and  ERBB2 (HER2)'] id: R-ALL-1220577\n",
      "Name: ['AZ5104'] id: R-ALL-9649879\n",
      "Name: ['Sapitinib'] id: R-ALL-9649894\n",
      "Name: ['Tesevatinib', 'EXEL-7647', 'XL-647', 'KD-019', 'XL647'] id: R-ALL-9646810\n",
      "Name: ['Lapatinib', 'GW572016', 'Tykerb', 'Reversible tyrosine kinase inhibitor lapatinib generic inhibits EGFR and ERBB2 (HER2)'] id: R-ALL-1216521\n",
      "Name: ['Neratinib', 'HKI-272', 'afatinib', 'Irreversible tyrosine kinase inhibitor HKI-272 generic inhibits EGFR and ERBB2 (HER2)'] id: R-ALL-1216527\n",
      "Name: ['AEE788'] id: R-ALL-9652364\n",
      "Name: ['Canertinib', 'CI-1033', 'Irreversible TKI inhibitor canertinib generic pan-ERBB'] id: R-ALL-1227677\n"
     ]
    }
   ],
   "source": [
    "query_drug = 'MATCH (a:Drug) RETURN a.name, a.stId LIMIT 10'\n",
    "\n",
    "with driver.session() as session:\n",
    "    info = session.run(query_drug)\n",
    "    for item in info:\n",
    "        print('Name:', item.values()[0], 'id:', item.values()[1])"
   ]
  },
  {
   "cell_type": "code",
   "execution_count": 10,
   "metadata": {},
   "outputs": [
    {
     "name": "stdout",
     "output_type": "stream",
     "text": [
      "<Record pw=<Node id=1 labels={'DatabaseObject', 'Pathway', 'TopLevelPathway', 'Event'} properties={'schemaClass': 'TopLevelPathway', 'isInDisease': False, 'releaseDate': '2019-06-12', 'displayName': 'Autophagy', 'stId': 'R-HSA-9612973', 'speciesName': 'Homo sapiens', 'diagramHeight': 338, 'hasEHLD': True, 'stIdVersion': 'R-HSA-9612973.1', 'dbId': 9612973, 'name': ['Autophagy'], 'hasDiagram': True, 'isInferred': False, 'doi': '10.3180/r-hsa-1632852.1', 'diagramWidth': 608}>>\n",
      "<Record pw=<Node id=2 labels={'DatabaseObject', 'Pathway', 'Event'} properties={'schemaClass': 'Pathway', 'isInDisease': False, 'releaseDate': '2019-06-12', 'displayName': 'Chaperone Mediated Autophagy', 'stId': 'R-HSA-9613829', 'speciesName': 'Homo sapiens', 'diagramHeight': 1817, 'stIdVersion': 'R-HSA-9613829.2', 'dbId': 9613829, 'name': ['Chaperone Mediated Autophagy'], 'hasDiagram': True, 'isInferred': False, 'doi': '10.3180/R-HSA-9613829.1', 'diagramWidth': 2185}>>\n"
     ]
    }
   ],
   "source": [
    "query = 'MATCH (pw:Pathway) RETURN pw LIMIT 2'\n",
    "\n",
    "with driver.session() as session:\n",
    "    info = session.run(query)\n",
    "    for item in info:\n",
    "        print(item)"
   ]
  },
  {
   "cell_type": "code",
   "execution_count": 11,
   "metadata": {},
   "outputs": [
    {
     "name": "stdout",
     "output_type": "stream",
     "text": [
      "<Record pw=<Node id=2 labels={'DatabaseObject', 'Pathway', 'Event'} properties={'schemaClass': 'Pathway', 'isInDisease': False, 'releaseDate': '2019-06-12', 'displayName': 'Chaperone Mediated Autophagy', 'stId': 'R-HSA-9613829', 'speciesName': 'Homo sapiens', 'diagramHeight': 1817, 'stIdVersion': 'R-HSA-9613829.2', 'dbId': 9613829, 'name': ['Chaperone Mediated Autophagy'], 'hasDiagram': True, 'isInferred': False, 'doi': '10.3180/R-HSA-9613829.1', 'diagramWidth': 2185}> rx=<Node id=2451 labels={'ReactionLikeEvent', 'DatabaseObject', 'Reaction', 'Event'} properties={'schemaClass': 'Reaction', 'speciesName': 'Homo sapiens', 'isInDisease': False, 'releaseDate': '2019-06-12', 'displayName': 'HSPA8 binds LAMP2a multimers', 'stIdVersion': 'R-HSA-9626253.1', 'dbId': 9626253, 'name': ['HSPA8 binds LAMP2a multimers'], 'isChimeric': False, 'stId': 'R-HSA-9626253', 'category': 'transition', 'isInferred': False}>>\n",
      "<Record pw=<Node id=2 labels={'DatabaseObject', 'Pathway', 'Event'} properties={'schemaClass': 'Pathway', 'isInDisease': False, 'releaseDate': '2019-06-12', 'displayName': 'Chaperone Mediated Autophagy', 'stId': 'R-HSA-9613829', 'speciesName': 'Homo sapiens', 'diagramHeight': 1817, 'stIdVersion': 'R-HSA-9613829.2', 'dbId': 9613829, 'name': ['Chaperone Mediated Autophagy'], 'hasDiagram': True, 'isInferred': False, 'doi': '10.3180/R-HSA-9613829.1', 'diagramWidth': 2185}> rx=<Node id=7265 labels={'ReactionLikeEvent', 'DatabaseObject', 'Reaction', 'Event'} properties={'schemaClass': 'Reaction', 'speciesName': 'Homo sapiens', 'isInDisease': False, 'releaseDate': '2019-06-12', 'displayName': 'GFAP binds LAMP2a multimer', 'stIdVersion': 'R-HSA-9625197.1', 'dbId': 9625197, 'name': ['GFAP binds LAMP2a multimer'], 'isChimeric': False, 'stId': 'R-HSA-9625197', 'category': 'binding', 'isInferred': False}>>\n"
     ]
    }
   ],
   "source": [
    "query = 'MATCH (pw:Pathway)-[:hasEvent]->(rx:Reaction) RETURN pw,rx LIMIT 2'\n",
    "\n",
    "with driver.session() as session:\n",
    "    info = session.run(query)\n",
    "    for item in info:\n",
    "        print(item)"
   ]
  },
  {
   "cell_type": "code",
   "execution_count": 13,
   "metadata": {},
   "outputs": [
    {
     "name": "stdout",
     "output_type": "stream",
     "text": [
      "<Record pw=<Node id=2 labels={'DatabaseObject', 'Pathway', 'Event'} properties={'schemaClass': 'Pathway', 'isInDisease': False, 'releaseDate': '2019-06-12', 'displayName': 'Chaperone Mediated Autophagy', 'stId': 'R-HSA-9613829', 'speciesName': 'Homo sapiens', 'diagramHeight': 1817, 'stIdVersion': 'R-HSA-9613829.2', 'dbId': 9613829, 'name': ['Chaperone Mediated Autophagy'], 'hasDiagram': True, 'isInferred': False, 'doi': '10.3180/R-HSA-9613829.1', 'diagramWidth': 2185}> rx1=<Node id=2451 labels={'ReactionLikeEvent', 'DatabaseObject', 'Reaction', 'Event'} properties={'schemaClass': 'Reaction', 'speciesName': 'Homo sapiens', 'isInDisease': False, 'releaseDate': '2019-06-12', 'displayName': 'HSPA8 binds LAMP2a multimers', 'stIdVersion': 'R-HSA-9626253.1', 'dbId': 9626253, 'name': ['HSPA8 binds LAMP2a multimers'], 'isChimeric': False, 'stId': 'R-HSA-9626253', 'category': 'transition', 'isInferred': False}> rx2=<Node id=2468 labels={'ReactionLikeEvent', 'DatabaseObject', 'Reaction', 'Event'} properties={'schemaClass': 'Reaction', 'speciesName': 'Homo sapiens', 'isInDisease': False, 'releaseDate': '2019-06-12', 'displayName': 'p-GFAP:GFAP dissociates from LAMP2a multimer', 'stIdVersion': 'R-HSA-9626242.1', 'dbId': 9626242, 'name': ['p-GFAP:GFAP dissociates from LAMP2a multimer'], 'isChimeric': False, 'stId': 'R-HSA-9626242', 'category': 'dissociation', 'isInferred': False}>>\n",
      "<Record pw=<Node id=2 labels={'DatabaseObject', 'Pathway', 'Event'} properties={'schemaClass': 'Pathway', 'isInDisease': False, 'releaseDate': '2019-06-12', 'displayName': 'Chaperone Mediated Autophagy', 'stId': 'R-HSA-9613829', 'speciesName': 'Homo sapiens', 'diagramHeight': 1817, 'stIdVersion': 'R-HSA-9613829.2', 'dbId': 9613829, 'name': ['Chaperone Mediated Autophagy'], 'hasDiagram': True, 'isInferred': False, 'doi': '10.3180/R-HSA-9613829.1', 'diagramWidth': 2185}> rx1=<Node id=7265 labels={'ReactionLikeEvent', 'DatabaseObject', 'Reaction', 'Event'} properties={'schemaClass': 'Reaction', 'speciesName': 'Homo sapiens', 'isInDisease': False, 'releaseDate': '2019-06-12', 'displayName': 'GFAP binds LAMP2a multimer', 'stIdVersion': 'R-HSA-9625197.1', 'dbId': 9625197, 'name': ['GFAP binds LAMP2a multimer'], 'isChimeric': False, 'stId': 'R-HSA-9625197', 'category': 'binding', 'isInferred': False}> rx2=<Node id=7262 labels={'ReactionLikeEvent', 'DatabaseObject', 'Reaction', 'Event'} properties={'schemaClass': 'Reaction', 'speciesName': 'Homo sapiens', 'isInDisease': False, 'releaseDate': '2019-06-12', 'displayName': 'Unfolded substrate in LAMP2a multimeric complex binds HSPA8', 'stIdVersion': 'R-HSA-9625196.1', 'dbId': 9625196, 'name': ['Unfolded substrate in LAMP2a multimeric complex binds HSPA8'], 'isChimeric': False, 'stId': 'R-HSA-9625196', 'category': 'binding', 'isInferred': False}>>\n"
     ]
    }
   ],
   "source": [
    "query = 'MATCH (pw:Pathway)-[:hasEvent]->(rx1:Reaction)\\\n",
    "        -[:precedingEvent]-(rx2:Reaction)\\\n",
    "        RETURN pw,rx1,rx2 LIMIT 2'\n",
    "\n",
    "with driver.session() as session:\n",
    "    info = session.run(query)\n",
    "    for item in info:\n",
    "        print(item)"
   ]
  },
  {
   "cell_type": "code",
   "execution_count": null,
   "metadata": {},
   "outputs": [],
   "source": []
  },
  {
   "cell_type": "code",
   "execution_count": null,
   "metadata": {},
   "outputs": [],
   "source": []
  },
  {
   "cell_type": "code",
   "execution_count": null,
   "metadata": {},
   "outputs": [],
   "source": []
  },
  {
   "cell_type": "code",
   "execution_count": null,
   "metadata": {},
   "outputs": [],
   "source": []
  },
  {
   "cell_type": "markdown",
   "metadata": {},
   "source": [
    "### Disease"
   ]
  },
  {
   "cell_type": "code",
   "execution_count": 48,
   "metadata": {},
   "outputs": [
    {
     "name": "stdout",
     "output_type": "stream",
     "text": [
      "[('a', <Node id=85368 labels={'ExternalOntology', 'DatabaseObject', 'Disease'} properties={'schemaClass': 'Disease', 'identifier': '162', 'synonym': ['malignant tumor', 'malignant neoplasm', 'primary cancer'], 'databaseName': 'DOID', 'displayName': 'cancer', 'dbId': 1500689, 'name': ['cancer'], 'definition': 'A disease of cellular proliferation that is malignant and primary, characterized by uncontrolled cellular proliferation, local cell invasion and metastasis.', 'url': 'https://www.ebi.ac.uk/ols/ontologies/doid/terms?obo_id=DOID:162'}>), ('a.name', ['cancer']), ('a.definition', 'A disease of cellular proliferation that is malignant and primary, characterized by uncontrolled cellular proliferation, local cell invasion and metastasis.'), ('a.dbId', 1500689), ('a.synonym', ['malignant tumor', 'malignant neoplasm', 'primary cancer'])]\n",
      "----------------------------------\n",
      "[('a.name', ['cancer']), ('a.definition', 'A disease of cellular proliferation that is malignant and primary, characterized by uncontrolled cellular proliferation, local cell invasion and metastasis.'), ('a.dbId', 1500689), ('a.synonym', ['malignant tumor', 'malignant neoplasm', 'primary cancer'])]\n",
      "==================================\n",
      "[('a', <Node id=135984 labels={'ExternalOntology', 'DatabaseObject', 'Disease'} properties={'schemaClass': 'Disease', 'identifier': '3907', 'synonym': ['squamous cell carcinoma of lung (disorder)', 'Epidermoid cell carcinoma of the lung'], 'databaseName': 'DOID', 'displayName': 'lung squamous cell carcinoma', 'dbId': 1981182, 'name': ['lung squamous cell carcinoma'], 'url': 'https://www.ebi.ac.uk/ols/ontologies/doid/terms?obo_id=DOID:3907'}>), ('a.name', ['lung squamous cell carcinoma']), ('a.definition', None), ('a.dbId', 1981182), ('a.synonym', ['squamous cell carcinoma of lung (disorder)', 'Epidermoid cell carcinoma of the lung'])]\n",
      "----------------------------------\n",
      "[('a.name', ['lung squamous cell carcinoma']), ('a.definition', None), ('a.dbId', 1981182), ('a.synonym', ['squamous cell carcinoma of lung (disorder)', 'Epidermoid cell carcinoma of the lung'])]\n",
      "==================================\n",
      "[('a', <Node id=135986 labels={'ExternalOntology', 'DatabaseObject', 'Disease'} properties={'schemaClass': 'Disease', 'identifier': '5520', 'synonym': ['carcinoma of the head and neck', 'squamous cell carcinoma of the head and neck'], 'databaseName': 'DOID', 'displayName': 'head and neck squamous cell carcinoma', 'dbId': 1248679, 'name': ['head and neck squamous cell carcinoma'], 'url': 'https://www.ebi.ac.uk/ols/ontologies/doid/terms?obo_id=DOID:5520'}>), ('a.name', ['head and neck squamous cell carcinoma']), ('a.definition', None), ('a.dbId', 1248679), ('a.synonym', ['carcinoma of the head and neck', 'squamous cell carcinoma of the head and neck'])]\n",
      "----------------------------------\n",
      "[('a.name', ['head and neck squamous cell carcinoma']), ('a.definition', None), ('a.dbId', 1248679), ('a.synonym', ['carcinoma of the head and neck', 'squamous cell carcinoma of the head and neck'])]\n",
      "==================================\n",
      "[('a', <Node id=135988 labels={'ExternalOntology', 'DatabaseObject', 'Disease'} properties={'schemaClass': 'Disease', 'identifier': '1612', 'synonym': ['malignant tumor of the breast', 'mammary cancer', 'malignant neoplasm of breast', 'mammary tumor', 'primary breast cancer', 'breast cancer', 'Ca breast - NOS', 'breast tumor'], 'databaseName': 'DOID', 'displayName': 'breast cancer', 'dbId': 1500576, 'name': ['breast cancer'], 'definition': 'A thoracic cancer that originates in the mammary gland.', 'url': 'https://www.ebi.ac.uk/ols/ontologies/doid/terms?obo_id=DOID:1612'}>), ('a.name', ['breast cancer']), ('a.definition', 'A thoracic cancer that originates in the mammary gland.'), ('a.dbId', 1500576), ('a.synonym', ['malignant tumor of the breast', 'mammary cancer', 'malignant neoplasm of breast', 'mammary tumor', 'primary breast cancer', 'breast cancer', 'Ca breast - NOS', 'breast tumor'])]\n",
      "----------------------------------\n",
      "[('a.name', ['breast cancer']), ('a.definition', 'A thoracic cancer that originates in the mammary gland.'), ('a.dbId', 1500576), ('a.synonym', ['malignant tumor of the breast', 'mammary cancer', 'malignant neoplasm of breast', 'mammary tumor', 'primary breast cancer', 'breast cancer', 'Ca breast - NOS', 'breast tumor'])]\n",
      "==================================\n",
      "[('a', <Node id=135990 labels={'ExternalOntology', 'DatabaseObject', 'Disease'} properties={'schemaClass': 'Disease', 'identifier': '2394', 'synonym': ['ovarian neoplasm', 'malignant tumour of ovary', 'neoplasm of ovary (disorder)', 'ovary neoplasm', 'primary malignant neoplasm of ovary and other uterine adnexa (disorder)', 'ovarian cancer', 'tumor of the Ovary', 'ovary cancer', 'malignant Ovarian tumor', 'primary ovarian cancer', 'malignant tumor of ovary (disorder)'], 'databaseName': 'DOID', 'displayName': 'ovarian cancer', 'dbId': 1500575, 'name': ['ovarian cancer'], 'url': 'https://www.ebi.ac.uk/ols/ontologies/doid/terms?obo_id=DOID:2394'}>), ('a.name', ['ovarian cancer']), ('a.definition', None), ('a.dbId', 1500575), ('a.synonym', ['ovarian neoplasm', 'malignant tumour of ovary', 'neoplasm of ovary (disorder)', 'ovary neoplasm', 'primary malignant neoplasm of ovary and other uterine adnexa (disorder)', 'ovarian cancer', 'tumor of the Ovary', 'ovary cancer', 'malignant Ovarian tumor', 'primary ovarian cancer', 'malignant tumor of ovary (disorder)'])]\n",
      "----------------------------------\n",
      "[('a.name', ['ovarian cancer']), ('a.definition', None), ('a.dbId', 1500575), ('a.synonym', ['ovarian neoplasm', 'malignant tumour of ovary', 'neoplasm of ovary (disorder)', 'ovary neoplasm', 'primary malignant neoplasm of ovary and other uterine adnexa (disorder)', 'ovarian cancer', 'tumor of the Ovary', 'ovary cancer', 'malignant Ovarian tumor', 'primary ovarian cancer', 'malignant tumor of ovary (disorder)'])]\n",
      "==================================\n"
     ]
    }
   ],
   "source": [
    "with driver.session() as session:\n",
    "    info_all = session.run('MATCH (a:Disease) RETURN a, a.name, a.definition, a.dbId, a.synonym LIMIT 5')\n",
    "    info_selected = session.run('MATCH (a:Disease) RETURN a.name, a.definition, a.dbId, a.synonym LIMIT 5')\n",
    "    for item1,item2 in zip(info_all,info_selected):\n",
    "        print(item1.items())\n",
    "        print(\"----------------------------------\")\n",
    "        print(item2.items())\n",
    "        print(\"==================================\")"
   ]
  },
  {
   "cell_type": "code",
   "execution_count": 36,
   "metadata": {},
   "outputs": [],
   "source": [
    "query_disease = 'MATCH (a:Disease) RETURN a.name, a.id, a.synonym LIMIT 10'"
   ]
  },
  {
   "cell_type": "code",
   "execution_count": 37,
   "metadata": {},
   "outputs": [
    {
     "name": "stdout",
     "output_type": "stream",
     "text": [
      "[['cancer'], None, ['malignant tumor', 'malignant neoplasm', 'primary cancer']]\n",
      "------------------\n",
      "Name: ['cancer'] id: None\n",
      "[['lung squamous cell carcinoma'], None, ['squamous cell carcinoma of lung (disorder)', 'Epidermoid cell carcinoma of the lung']]\n",
      "------------------\n",
      "Name: ['lung squamous cell carcinoma'] id: None\n",
      "[['head and neck squamous cell carcinoma'], None, ['carcinoma of the head and neck', 'squamous cell carcinoma of the head and neck']]\n",
      "------------------\n",
      "Name: ['head and neck squamous cell carcinoma'] id: None\n",
      "[['breast cancer'], None, ['malignant tumor of the breast', 'mammary cancer', 'malignant neoplasm of breast', 'mammary tumor', 'primary breast cancer', 'breast cancer', 'Ca breast - NOS', 'breast tumor']]\n",
      "------------------\n",
      "Name: ['breast cancer'] id: None\n",
      "[['ovarian cancer'], None, ['ovarian neoplasm', 'malignant tumour of ovary', 'neoplasm of ovary (disorder)', 'ovary neoplasm', 'primary malignant neoplasm of ovary and other uterine adnexa (disorder)', 'ovarian cancer', 'tumor of the Ovary', 'ovary cancer', 'malignant Ovarian tumor', 'primary ovarian cancer', 'malignant tumor of ovary (disorder)']]\n",
      "------------------\n",
      "Name: ['ovarian cancer'] id: None\n",
      "[['bladder carcinoma'], None, ['carcinoma of urinary bladder', 'carcinoma bladder', 'carcinoma OF BLADDER', 'carcinoma of bladder (disorder)', 'carcinoma bladder']]\n",
      "------------------\n",
      "Name: ['bladder carcinoma'] id: None\n",
      "[['rhabdomyosarcoma'], None, ['Rhabdomyosarcoma NOS (morphologic abnormality)', 'rhabdomyosarcoma', 'Rhabdomyosarcoma, no subtype (morphologic abnormality)', 'rhabdomyoblastoma', 'Rhabdomyosarcoma (disorder)']]\n",
      "------------------\n",
      "Name: ['rhabdomyosarcoma'] id: None\n",
      "[[\"Alzheimer's disease\"], None, ['AD', 'Alzheimers dementia', 'Alzheimer disease']]\n",
      "------------------\n",
      "Name: [\"Alzheimer's disease\"] id: None\n",
      "[['glaucoma'], None, None]\n",
      "------------------\n",
      "Name: ['glaucoma'] id: None\n",
      "[['septic shock'], None, None]\n",
      "------------------\n",
      "Name: ['septic shock'] id: None\n"
     ]
    }
   ],
   "source": [
    "with driver.session() as session:\n",
    "    info = session.run(query_disease)\n",
    "    for item in info:\n",
    "        print(item.values())\n",
    "        print(\"------------------\")\n",
    "        print('Name:', item.values()[0], 'id:', item.values()[1])"
   ]
  },
  {
   "cell_type": "code",
   "execution_count": null,
   "metadata": {},
   "outputs": [],
   "source": [
    "with driver.session() as session:\n",
    "    info = session.run(query_disease)\n",
    "    for item in info:\n",
    "        print(item.values())\n",
    "        print(\"------------------\")\n",
    "        print('Name:', item.values()[0], 'id:', item.values()[1])"
   ]
  }
 ],
 "metadata": {
  "kernelspec": {
   "display_name": "Python 3",
   "language": "python",
   "name": "python3"
  },
  "language_info": {
   "codemirror_mode": {
    "name": "ipython",
    "version": 3
   },
   "file_extension": ".py",
   "mimetype": "text/x-python",
   "name": "python",
   "nbconvert_exporter": "python",
   "pygments_lexer": "ipython3",
   "version": "3.7.1"
  }
 },
 "nbformat": 4,
 "nbformat_minor": 2
}
