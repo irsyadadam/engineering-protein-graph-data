{
 "cells": [
  {
   "cell_type": "code",
   "execution_count": 71,
   "source": [
    "import pandas as pd\r\n",
    "\r\n",
    "caseolap_df = pd.read_csv('caseolap.csv')\r\n"
   ],
   "outputs": [],
   "metadata": {}
  },
  {
   "cell_type": "code",
   "execution_count": 65,
   "source": [
    "import requests\r\n",
    "\r\n",
    "def extract_pathway(unid) -> str:\r\n",
    "    \"\"\"\r\n",
    "    grabs all reactome pathways associated with protein\r\n",
    "    @param id is the uniprot id that is going to be grabbed\r\n",
    "    @return is a list with all of the reactome pathways\r\n",
    "    \"\"\"\r\n",
    "    #get the url\r\n",
    "    url = 'https://www.uniprot.org/uniprot/' + unid + '.txt'\r\n",
    "\r\n",
    "    #check the response\r\n",
    "    response = requests.get(url=url)\r\n",
    "\r\n",
    "    #if successful\r\n",
    "    if response.status_code == 200:\r\n",
    "        pathway_list = []\r\n",
    "        #new line delimiter\r\n",
    "        response = response.text.splitlines()\r\n",
    "        #searcg for pathways\r\n",
    "        for i in range(len(response)):\r\n",
    "            #if found\r\n",
    "            if 'Reactome;' in response[i]:\r\n",
    "                #process string\r\n",
    "                pathway = response[i]\r\n",
    "                pathway = str(pathway.split()[2][:-1])\r\n",
    "                pathway_list.append(pathway)\r\n",
    "        return pathway_list\r\n",
    "\r\n",
    "    #if not successful\r\n",
    "    else:\r\n",
    "        #get error\r\n",
    "        print('Error, Status Code:' % response.status_code)\r\n",
    "\r\n",
    "\r\n",
    "def add_pathways(df) -> any:\r\n",
    "    \"\"\"\r\n",
    "    appends reactome pathways to df\r\n",
    "    @param df is dataframe with uniprot id\r\n",
    "    @return df is df with newly added reactome column\r\n",
    "    \"\"\"\r\n",
    "    pathway = []\r\n",
    "    for i in df['protein']:\r\n",
    "        result = extract_pathway(i)\r\n",
    "        pathway.append(result)\r\n",
    "    df['pathway'] = pathway\r\n",
    "    return df\r\n",
    "\r\n"
   ],
   "outputs": [],
   "metadata": {}
  },
  {
   "cell_type": "code",
   "execution_count": 72,
   "source": [
    "caseolap_df = add_pathways(caseolap_df)"
   ],
   "outputs": [],
   "metadata": {}
  },
  {
   "cell_type": "code",
   "execution_count": null,
   "source": [
    "caseolap_df"
   ],
   "outputs": [],
   "metadata": {}
  }
 ],
 "metadata": {
  "orig_nbformat": 4,
  "language_info": {
   "name": "python",
   "version": "3.8.3",
   "mimetype": "text/x-python",
   "codemirror_mode": {
    "name": "ipython",
    "version": 3
   },
   "pygments_lexer": "ipython3",
   "nbconvert_exporter": "python",
   "file_extension": ".py"
  },
  "kernelspec": {
   "name": "python3",
   "display_name": "Python 3.8.3 64-bit ('base': conda)"
  },
  "interpreter": {
   "hash": "da9952b49cbe8d96f4cd94137675a40eefb933987d5b5eb67fec8d17888ef93b"
  }
 },
 "nbformat": 4,
 "nbformat_minor": 2
}